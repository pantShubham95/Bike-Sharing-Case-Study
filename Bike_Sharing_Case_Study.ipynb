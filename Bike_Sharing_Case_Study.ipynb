{
  "nbformat": 4,
  "nbformat_minor": 0,
  "metadata": {
    "colab": {
      "provenance": []
    },
    "kernelspec": {
      "name": "python3",
      "display_name": "Python 3"
    },
    "language_info": {
      "name": "python"
    }
  },
  "cells": [
    {
      "cell_type": "markdown",
      "source": [
        "\n",
        "### Bike Sharing Case Study\n",
        "\n",
        "A bike-sharing system is a service in which bikes are made available for shared use to individuals on a short term basis for a price or free. Many bike share systems allow people to borrow a bike from a \"dock\" which is usually computer-controlled wherein the user enters the payment information, and the system unlocks it. This bike can then be returned to another dock belonging to the same system.\n",
        "\n",
        "\n",
        "A US bike-sharing provider **BoomBikes** has recently suffered considerable dips in their revenues due to the ongoing Corona pandemic. The company is finding it very difficult to sustain in the current market scenario. So, it has decided to come up with a mindful business plan to be able to accelerate its revenue as soon as the ongoing lockdown comes to an end, and the economy restores to a healthy state.\n",
        "\n",
        "\n",
        "In such an attempt, **BoomBikes** aspires to understand the demand for shared bikes among the people after this ongoing quarantine situation ends across the nation due to Covid-19. They have planned this to prepare themselves to cater to the people's needs once the situation gets better all around and stand out from other service providers and make huge profits.\n",
        "\n",
        "\n",
        "They have contracted a consulting company to understand the factors on which the demand for these shared bikes depends. Specifically, they want to understand the factors affecting the demand for these shared bikes in the American market. The company wants to know:\n",
        "\n",
        "Which variables are significant in predicting the demand for shared bikes.\n",
        "How well those variables describe the bike demands\n",
        "Based on various meteorological surveys and people's styles, the service provider firm has gathered a large dataset on daily bike demands across the American market based on some factors.\n",
        "\n",
        "\n",
        "#Business Goal:\n",
        "We are required to model the demand for shared bikes with the available independent variables. It will be used by the management to understand how exactly the demands vary with different features. They can accordingly manipulate the business strategy to meet the demand levels and meet the customer's expectations. Further, the model will be a good way for management to understand the demand dynamics of a new market.\n",
        "\n"
      ],
      "metadata": {
        "id": "ncU9FtPbWCzi"
      }
    },
    {
      "cell_type": "markdown",
      "source": [
        "## Step 1: Reading and Understanding the Data\n"
      ],
      "metadata": {
        "id": "cY5O6Kl2WAy5"
      }
    },
    {
      "cell_type": "code",
      "source": [
        "import warnings\n",
        "warnings.filterwarnings('ignore')"
      ],
      "metadata": {
        "id": "HZfwgkQVaxTh"
      },
      "execution_count": null,
      "outputs": []
    },
    {
      "cell_type": "code",
      "source": [
        "# Importing Libraries\n",
        "\n",
        "import numpy as np\n",
        "import pandas as pd\n",
        "import matplotlib.pyplot as plt\n",
        "import seaborn as sns"
      ],
      "metadata": {
        "id": "Hion9Ed7Uc6u"
      },
      "execution_count": null,
      "outputs": []
    },
    {
      "cell_type": "code",
      "source": [
        "# Reading file\n",
        "\n",
        "days = pd.read_csv('day.csv')\n",
        "days.head()"
      ],
      "metadata": {
        "colab": {
          "base_uri": "https://localhost:8080/",
          "height": 206
        },
        "id": "FaarZZ3_a9Vg",
        "outputId": "8fe96270-64f5-4959-b492-214bbe2b133a"
      },
      "execution_count": null,
      "outputs": [
        {
          "output_type": "execute_result",
          "data": {
            "text/plain": [
              "   instant      dteday  season  yr  mnth  holiday  weekday  workingday  \\\n",
              "0        1  01-01-2018       1   0     1        0        1           1   \n",
              "1        2  02-01-2018       1   0     1        0        2           1   \n",
              "2        3  03-01-2018       1   0     1        0        3           1   \n",
              "3        4  04-01-2018       1   0     1        0        4           1   \n",
              "4        5  05-01-2018       1   0     1        0        5           1   \n",
              "\n",
              "   weathersit       temp     atemp      hum  windspeed  casual  registered  \\\n",
              "0           2  14.110847  18.18125  80.5833  10.749882     331         654   \n",
              "1           2  14.902598  17.68695  69.6087  16.652113     131         670   \n",
              "2           1   8.050924   9.47025  43.7273  16.636703     120        1229   \n",
              "3           1   8.200000  10.60610  59.0435  10.739832     108        1454   \n",
              "4           1   9.305237  11.46350  43.6957  12.522300      82        1518   \n",
              "\n",
              "    cnt  \n",
              "0   985  \n",
              "1   801  \n",
              "2  1349  \n",
              "3  1562  \n",
              "4  1600  "
            ],
            "text/html": [
              "\n",
              "  <div id=\"df-fbe218b2-22b7-466f-84dd-1335982fc4d8\">\n",
              "    <div class=\"colab-df-container\">\n",
              "      <div>\n",
              "<style scoped>\n",
              "    .dataframe tbody tr th:only-of-type {\n",
              "        vertical-align: middle;\n",
              "    }\n",
              "\n",
              "    .dataframe tbody tr th {\n",
              "        vertical-align: top;\n",
              "    }\n",
              "\n",
              "    .dataframe thead th {\n",
              "        text-align: right;\n",
              "    }\n",
              "</style>\n",
              "<table border=\"1\" class=\"dataframe\">\n",
              "  <thead>\n",
              "    <tr style=\"text-align: right;\">\n",
              "      <th></th>\n",
              "      <th>instant</th>\n",
              "      <th>dteday</th>\n",
              "      <th>season</th>\n",
              "      <th>yr</th>\n",
              "      <th>mnth</th>\n",
              "      <th>holiday</th>\n",
              "      <th>weekday</th>\n",
              "      <th>workingday</th>\n",
              "      <th>weathersit</th>\n",
              "      <th>temp</th>\n",
              "      <th>atemp</th>\n",
              "      <th>hum</th>\n",
              "      <th>windspeed</th>\n",
              "      <th>casual</th>\n",
              "      <th>registered</th>\n",
              "      <th>cnt</th>\n",
              "    </tr>\n",
              "  </thead>\n",
              "  <tbody>\n",
              "    <tr>\n",
              "      <th>0</th>\n",
              "      <td>1</td>\n",
              "      <td>01-01-2018</td>\n",
              "      <td>1</td>\n",
              "      <td>0</td>\n",
              "      <td>1</td>\n",
              "      <td>0</td>\n",
              "      <td>1</td>\n",
              "      <td>1</td>\n",
              "      <td>2</td>\n",
              "      <td>14.110847</td>\n",
              "      <td>18.18125</td>\n",
              "      <td>80.5833</td>\n",
              "      <td>10.749882</td>\n",
              "      <td>331</td>\n",
              "      <td>654</td>\n",
              "      <td>985</td>\n",
              "    </tr>\n",
              "    <tr>\n",
              "      <th>1</th>\n",
              "      <td>2</td>\n",
              "      <td>02-01-2018</td>\n",
              "      <td>1</td>\n",
              "      <td>0</td>\n",
              "      <td>1</td>\n",
              "      <td>0</td>\n",
              "      <td>2</td>\n",
              "      <td>1</td>\n",
              "      <td>2</td>\n",
              "      <td>14.902598</td>\n",
              "      <td>17.68695</td>\n",
              "      <td>69.6087</td>\n",
              "      <td>16.652113</td>\n",
              "      <td>131</td>\n",
              "      <td>670</td>\n",
              "      <td>801</td>\n",
              "    </tr>\n",
              "    <tr>\n",
              "      <th>2</th>\n",
              "      <td>3</td>\n",
              "      <td>03-01-2018</td>\n",
              "      <td>1</td>\n",
              "      <td>0</td>\n",
              "      <td>1</td>\n",
              "      <td>0</td>\n",
              "      <td>3</td>\n",
              "      <td>1</td>\n",
              "      <td>1</td>\n",
              "      <td>8.050924</td>\n",
              "      <td>9.47025</td>\n",
              "      <td>43.7273</td>\n",
              "      <td>16.636703</td>\n",
              "      <td>120</td>\n",
              "      <td>1229</td>\n",
              "      <td>1349</td>\n",
              "    </tr>\n",
              "    <tr>\n",
              "      <th>3</th>\n",
              "      <td>4</td>\n",
              "      <td>04-01-2018</td>\n",
              "      <td>1</td>\n",
              "      <td>0</td>\n",
              "      <td>1</td>\n",
              "      <td>0</td>\n",
              "      <td>4</td>\n",
              "      <td>1</td>\n",
              "      <td>1</td>\n",
              "      <td>8.200000</td>\n",
              "      <td>10.60610</td>\n",
              "      <td>59.0435</td>\n",
              "      <td>10.739832</td>\n",
              "      <td>108</td>\n",
              "      <td>1454</td>\n",
              "      <td>1562</td>\n",
              "    </tr>\n",
              "    <tr>\n",
              "      <th>4</th>\n",
              "      <td>5</td>\n",
              "      <td>05-01-2018</td>\n",
              "      <td>1</td>\n",
              "      <td>0</td>\n",
              "      <td>1</td>\n",
              "      <td>0</td>\n",
              "      <td>5</td>\n",
              "      <td>1</td>\n",
              "      <td>1</td>\n",
              "      <td>9.305237</td>\n",
              "      <td>11.46350</td>\n",
              "      <td>43.6957</td>\n",
              "      <td>12.522300</td>\n",
              "      <td>82</td>\n",
              "      <td>1518</td>\n",
              "      <td>1600</td>\n",
              "    </tr>\n",
              "  </tbody>\n",
              "</table>\n",
              "</div>\n",
              "      <button class=\"colab-df-convert\" onclick=\"convertToInteractive('df-fbe218b2-22b7-466f-84dd-1335982fc4d8')\"\n",
              "              title=\"Convert this dataframe to an interactive table.\"\n",
              "              style=\"display:none;\">\n",
              "        \n",
              "  <svg xmlns=\"http://www.w3.org/2000/svg\" height=\"24px\"viewBox=\"0 0 24 24\"\n",
              "       width=\"24px\">\n",
              "    <path d=\"M0 0h24v24H0V0z\" fill=\"none\"/>\n",
              "    <path d=\"M18.56 5.44l.94 2.06.94-2.06 2.06-.94-2.06-.94-.94-2.06-.94 2.06-2.06.94zm-11 1L8.5 8.5l.94-2.06 2.06-.94-2.06-.94L8.5 2.5l-.94 2.06-2.06.94zm10 10l.94 2.06.94-2.06 2.06-.94-2.06-.94-.94-2.06-.94 2.06-2.06.94z\"/><path d=\"M17.41 7.96l-1.37-1.37c-.4-.4-.92-.59-1.43-.59-.52 0-1.04.2-1.43.59L10.3 9.45l-7.72 7.72c-.78.78-.78 2.05 0 2.83L4 21.41c.39.39.9.59 1.41.59.51 0 1.02-.2 1.41-.59l7.78-7.78 2.81-2.81c.8-.78.8-2.07 0-2.86zM5.41 20L4 18.59l7.72-7.72 1.47 1.35L5.41 20z\"/>\n",
              "  </svg>\n",
              "      </button>\n",
              "      \n",
              "  <style>\n",
              "    .colab-df-container {\n",
              "      display:flex;\n",
              "      flex-wrap:wrap;\n",
              "      gap: 12px;\n",
              "    }\n",
              "\n",
              "    .colab-df-convert {\n",
              "      background-color: #E8F0FE;\n",
              "      border: none;\n",
              "      border-radius: 50%;\n",
              "      cursor: pointer;\n",
              "      display: none;\n",
              "      fill: #1967D2;\n",
              "      height: 32px;\n",
              "      padding: 0 0 0 0;\n",
              "      width: 32px;\n",
              "    }\n",
              "\n",
              "    .colab-df-convert:hover {\n",
              "      background-color: #E2EBFA;\n",
              "      box-shadow: 0px 1px 2px rgba(60, 64, 67, 0.3), 0px 1px 3px 1px rgba(60, 64, 67, 0.15);\n",
              "      fill: #174EA6;\n",
              "    }\n",
              "\n",
              "    [theme=dark] .colab-df-convert {\n",
              "      background-color: #3B4455;\n",
              "      fill: #D2E3FC;\n",
              "    }\n",
              "\n",
              "    [theme=dark] .colab-df-convert:hover {\n",
              "      background-color: #434B5C;\n",
              "      box-shadow: 0px 1px 3px 1px rgba(0, 0, 0, 0.15);\n",
              "      filter: drop-shadow(0px 1px 2px rgba(0, 0, 0, 0.3));\n",
              "      fill: #FFFFFF;\n",
              "    }\n",
              "  </style>\n",
              "\n",
              "      <script>\n",
              "        const buttonEl =\n",
              "          document.querySelector('#df-fbe218b2-22b7-466f-84dd-1335982fc4d8 button.colab-df-convert');\n",
              "        buttonEl.style.display =\n",
              "          google.colab.kernel.accessAllowed ? 'block' : 'none';\n",
              "\n",
              "        async function convertToInteractive(key) {\n",
              "          const element = document.querySelector('#df-fbe218b2-22b7-466f-84dd-1335982fc4d8');\n",
              "          const dataTable =\n",
              "            await google.colab.kernel.invokeFunction('convertToInteractive',\n",
              "                                                     [key], {});\n",
              "          if (!dataTable) return;\n",
              "\n",
              "          const docLinkHtml = 'Like what you see? Visit the ' +\n",
              "            '<a target=\"_blank\" href=https://colab.research.google.com/notebooks/data_table.ipynb>data table notebook</a>'\n",
              "            + ' to learn more about interactive tables.';\n",
              "          element.innerHTML = '';\n",
              "          dataTable['output_type'] = 'display_data';\n",
              "          await google.colab.output.renderOutput(dataTable, element);\n",
              "          const docLink = document.createElement('div');\n",
              "          docLink.innerHTML = docLinkHtml;\n",
              "          element.appendChild(docLink);\n",
              "        }\n",
              "      </script>\n",
              "    </div>\n",
              "  </div>\n",
              "  "
            ]
          },
          "metadata": {},
          "execution_count": 94
        }
      ]
    },
    {
      "cell_type": "code",
      "source": [
        "days.shape"
      ],
      "metadata": {
        "colab": {
          "base_uri": "https://localhost:8080/"
        },
        "id": "o3050BYqbt2V",
        "outputId": "1e52d357-f836-421b-9754-4edf992fd6aa"
      },
      "execution_count": null,
      "outputs": [
        {
          "output_type": "execute_result",
          "data": {
            "text/plain": [
              "(730, 16)"
            ]
          },
          "metadata": {},
          "execution_count": 95
        }
      ]
    },
    {
      "cell_type": "code",
      "source": [
        "days.describe()"
      ],
      "metadata": {
        "colab": {
          "base_uri": "https://localhost:8080/",
          "height": 364
        },
        "id": "orFFpyNsgiZL",
        "outputId": "cce62251-ea34-48ab-d54c-95e59a3847d7"
      },
      "execution_count": null,
      "outputs": [
        {
          "output_type": "execute_result",
          "data": {
            "text/plain": [
              "          instant      season          yr        mnth     holiday     weekday  \\\n",
              "count  730.000000  730.000000  730.000000  730.000000  730.000000  730.000000   \n",
              "mean   365.500000    2.498630    0.500000    6.526027    0.028767    2.995890   \n",
              "std    210.877136    1.110184    0.500343    3.450215    0.167266    2.000339   \n",
              "min      1.000000    1.000000    0.000000    1.000000    0.000000    0.000000   \n",
              "25%    183.250000    2.000000    0.000000    4.000000    0.000000    1.000000   \n",
              "50%    365.500000    3.000000    0.500000    7.000000    0.000000    3.000000   \n",
              "75%    547.750000    3.000000    1.000000   10.000000    0.000000    5.000000   \n",
              "max    730.000000    4.000000    1.000000   12.000000    1.000000    6.000000   \n",
              "\n",
              "       workingday  weathersit        temp       atemp         hum   windspeed  \\\n",
              "count  730.000000  730.000000  730.000000  730.000000  730.000000  730.000000   \n",
              "mean     0.690411    1.394521   20.319259   23.726322   62.765175   12.763620   \n",
              "std      0.462641    0.544807    7.506729    8.150308   14.237589    5.195841   \n",
              "min      0.000000    1.000000    2.424346    3.953480    0.000000    1.500244   \n",
              "25%      0.000000    1.000000   13.811885   16.889713   52.000000    9.041650   \n",
              "50%      1.000000    1.000000   20.465826   24.368225   62.625000   12.125325   \n",
              "75%      1.000000    2.000000   26.880615   30.445775   72.989575   15.625589   \n",
              "max      1.000000    3.000000   35.328347   42.044800   97.250000   34.000021   \n",
              "\n",
              "            casual   registered          cnt  \n",
              "count   730.000000   730.000000   730.000000  \n",
              "mean    849.249315  3658.757534  4508.006849  \n",
              "std     686.479875  1559.758728  1936.011647  \n",
              "min       2.000000    20.000000    22.000000  \n",
              "25%     316.250000  2502.250000  3169.750000  \n",
              "50%     717.000000  3664.500000  4548.500000  \n",
              "75%    1096.500000  4783.250000  5966.000000  \n",
              "max    3410.000000  6946.000000  8714.000000  "
            ],
            "text/html": [
              "\n",
              "  <div id=\"df-51bb21e9-af2f-4ed5-bbd5-f091d4827a7f\">\n",
              "    <div class=\"colab-df-container\">\n",
              "      <div>\n",
              "<style scoped>\n",
              "    .dataframe tbody tr th:only-of-type {\n",
              "        vertical-align: middle;\n",
              "    }\n",
              "\n",
              "    .dataframe tbody tr th {\n",
              "        vertical-align: top;\n",
              "    }\n",
              "\n",
              "    .dataframe thead th {\n",
              "        text-align: right;\n",
              "    }\n",
              "</style>\n",
              "<table border=\"1\" class=\"dataframe\">\n",
              "  <thead>\n",
              "    <tr style=\"text-align: right;\">\n",
              "      <th></th>\n",
              "      <th>instant</th>\n",
              "      <th>season</th>\n",
              "      <th>yr</th>\n",
              "      <th>mnth</th>\n",
              "      <th>holiday</th>\n",
              "      <th>weekday</th>\n",
              "      <th>workingday</th>\n",
              "      <th>weathersit</th>\n",
              "      <th>temp</th>\n",
              "      <th>atemp</th>\n",
              "      <th>hum</th>\n",
              "      <th>windspeed</th>\n",
              "      <th>casual</th>\n",
              "      <th>registered</th>\n",
              "      <th>cnt</th>\n",
              "    </tr>\n",
              "  </thead>\n",
              "  <tbody>\n",
              "    <tr>\n",
              "      <th>count</th>\n",
              "      <td>730.000000</td>\n",
              "      <td>730.000000</td>\n",
              "      <td>730.000000</td>\n",
              "      <td>730.000000</td>\n",
              "      <td>730.000000</td>\n",
              "      <td>730.000000</td>\n",
              "      <td>730.000000</td>\n",
              "      <td>730.000000</td>\n",
              "      <td>730.000000</td>\n",
              "      <td>730.000000</td>\n",
              "      <td>730.000000</td>\n",
              "      <td>730.000000</td>\n",
              "      <td>730.000000</td>\n",
              "      <td>730.000000</td>\n",
              "      <td>730.000000</td>\n",
              "    </tr>\n",
              "    <tr>\n",
              "      <th>mean</th>\n",
              "      <td>365.500000</td>\n",
              "      <td>2.498630</td>\n",
              "      <td>0.500000</td>\n",
              "      <td>6.526027</td>\n",
              "      <td>0.028767</td>\n",
              "      <td>2.995890</td>\n",
              "      <td>0.690411</td>\n",
              "      <td>1.394521</td>\n",
              "      <td>20.319259</td>\n",
              "      <td>23.726322</td>\n",
              "      <td>62.765175</td>\n",
              "      <td>12.763620</td>\n",
              "      <td>849.249315</td>\n",
              "      <td>3658.757534</td>\n",
              "      <td>4508.006849</td>\n",
              "    </tr>\n",
              "    <tr>\n",
              "      <th>std</th>\n",
              "      <td>210.877136</td>\n",
              "      <td>1.110184</td>\n",
              "      <td>0.500343</td>\n",
              "      <td>3.450215</td>\n",
              "      <td>0.167266</td>\n",
              "      <td>2.000339</td>\n",
              "      <td>0.462641</td>\n",
              "      <td>0.544807</td>\n",
              "      <td>7.506729</td>\n",
              "      <td>8.150308</td>\n",
              "      <td>14.237589</td>\n",
              "      <td>5.195841</td>\n",
              "      <td>686.479875</td>\n",
              "      <td>1559.758728</td>\n",
              "      <td>1936.011647</td>\n",
              "    </tr>\n",
              "    <tr>\n",
              "      <th>min</th>\n",
              "      <td>1.000000</td>\n",
              "      <td>1.000000</td>\n",
              "      <td>0.000000</td>\n",
              "      <td>1.000000</td>\n",
              "      <td>0.000000</td>\n",
              "      <td>0.000000</td>\n",
              "      <td>0.000000</td>\n",
              "      <td>1.000000</td>\n",
              "      <td>2.424346</td>\n",
              "      <td>3.953480</td>\n",
              "      <td>0.000000</td>\n",
              "      <td>1.500244</td>\n",
              "      <td>2.000000</td>\n",
              "      <td>20.000000</td>\n",
              "      <td>22.000000</td>\n",
              "    </tr>\n",
              "    <tr>\n",
              "      <th>25%</th>\n",
              "      <td>183.250000</td>\n",
              "      <td>2.000000</td>\n",
              "      <td>0.000000</td>\n",
              "      <td>4.000000</td>\n",
              "      <td>0.000000</td>\n",
              "      <td>1.000000</td>\n",
              "      <td>0.000000</td>\n",
              "      <td>1.000000</td>\n",
              "      <td>13.811885</td>\n",
              "      <td>16.889713</td>\n",
              "      <td>52.000000</td>\n",
              "      <td>9.041650</td>\n",
              "      <td>316.250000</td>\n",
              "      <td>2502.250000</td>\n",
              "      <td>3169.750000</td>\n",
              "    </tr>\n",
              "    <tr>\n",
              "      <th>50%</th>\n",
              "      <td>365.500000</td>\n",
              "      <td>3.000000</td>\n",
              "      <td>0.500000</td>\n",
              "      <td>7.000000</td>\n",
              "      <td>0.000000</td>\n",
              "      <td>3.000000</td>\n",
              "      <td>1.000000</td>\n",
              "      <td>1.000000</td>\n",
              "      <td>20.465826</td>\n",
              "      <td>24.368225</td>\n",
              "      <td>62.625000</td>\n",
              "      <td>12.125325</td>\n",
              "      <td>717.000000</td>\n",
              "      <td>3664.500000</td>\n",
              "      <td>4548.500000</td>\n",
              "    </tr>\n",
              "    <tr>\n",
              "      <th>75%</th>\n",
              "      <td>547.750000</td>\n",
              "      <td>3.000000</td>\n",
              "      <td>1.000000</td>\n",
              "      <td>10.000000</td>\n",
              "      <td>0.000000</td>\n",
              "      <td>5.000000</td>\n",
              "      <td>1.000000</td>\n",
              "      <td>2.000000</td>\n",
              "      <td>26.880615</td>\n",
              "      <td>30.445775</td>\n",
              "      <td>72.989575</td>\n",
              "      <td>15.625589</td>\n",
              "      <td>1096.500000</td>\n",
              "      <td>4783.250000</td>\n",
              "      <td>5966.000000</td>\n",
              "    </tr>\n",
              "    <tr>\n",
              "      <th>max</th>\n",
              "      <td>730.000000</td>\n",
              "      <td>4.000000</td>\n",
              "      <td>1.000000</td>\n",
              "      <td>12.000000</td>\n",
              "      <td>1.000000</td>\n",
              "      <td>6.000000</td>\n",
              "      <td>1.000000</td>\n",
              "      <td>3.000000</td>\n",
              "      <td>35.328347</td>\n",
              "      <td>42.044800</td>\n",
              "      <td>97.250000</td>\n",
              "      <td>34.000021</td>\n",
              "      <td>3410.000000</td>\n",
              "      <td>6946.000000</td>\n",
              "      <td>8714.000000</td>\n",
              "    </tr>\n",
              "  </tbody>\n",
              "</table>\n",
              "</div>\n",
              "      <button class=\"colab-df-convert\" onclick=\"convertToInteractive('df-51bb21e9-af2f-4ed5-bbd5-f091d4827a7f')\"\n",
              "              title=\"Convert this dataframe to an interactive table.\"\n",
              "              style=\"display:none;\">\n",
              "        \n",
              "  <svg xmlns=\"http://www.w3.org/2000/svg\" height=\"24px\"viewBox=\"0 0 24 24\"\n",
              "       width=\"24px\">\n",
              "    <path d=\"M0 0h24v24H0V0z\" fill=\"none\"/>\n",
              "    <path d=\"M18.56 5.44l.94 2.06.94-2.06 2.06-.94-2.06-.94-.94-2.06-.94 2.06-2.06.94zm-11 1L8.5 8.5l.94-2.06 2.06-.94-2.06-.94L8.5 2.5l-.94 2.06-2.06.94zm10 10l.94 2.06.94-2.06 2.06-.94-2.06-.94-.94-2.06-.94 2.06-2.06.94z\"/><path d=\"M17.41 7.96l-1.37-1.37c-.4-.4-.92-.59-1.43-.59-.52 0-1.04.2-1.43.59L10.3 9.45l-7.72 7.72c-.78.78-.78 2.05 0 2.83L4 21.41c.39.39.9.59 1.41.59.51 0 1.02-.2 1.41-.59l7.78-7.78 2.81-2.81c.8-.78.8-2.07 0-2.86zM5.41 20L4 18.59l7.72-7.72 1.47 1.35L5.41 20z\"/>\n",
              "  </svg>\n",
              "      </button>\n",
              "      \n",
              "  <style>\n",
              "    .colab-df-container {\n",
              "      display:flex;\n",
              "      flex-wrap:wrap;\n",
              "      gap: 12px;\n",
              "    }\n",
              "\n",
              "    .colab-df-convert {\n",
              "      background-color: #E8F0FE;\n",
              "      border: none;\n",
              "      border-radius: 50%;\n",
              "      cursor: pointer;\n",
              "      display: none;\n",
              "      fill: #1967D2;\n",
              "      height: 32px;\n",
              "      padding: 0 0 0 0;\n",
              "      width: 32px;\n",
              "    }\n",
              "\n",
              "    .colab-df-convert:hover {\n",
              "      background-color: #E2EBFA;\n",
              "      box-shadow: 0px 1px 2px rgba(60, 64, 67, 0.3), 0px 1px 3px 1px rgba(60, 64, 67, 0.15);\n",
              "      fill: #174EA6;\n",
              "    }\n",
              "\n",
              "    [theme=dark] .colab-df-convert {\n",
              "      background-color: #3B4455;\n",
              "      fill: #D2E3FC;\n",
              "    }\n",
              "\n",
              "    [theme=dark] .colab-df-convert:hover {\n",
              "      background-color: #434B5C;\n",
              "      box-shadow: 0px 1px 3px 1px rgba(0, 0, 0, 0.15);\n",
              "      filter: drop-shadow(0px 1px 2px rgba(0, 0, 0, 0.3));\n",
              "      fill: #FFFFFF;\n",
              "    }\n",
              "  </style>\n",
              "\n",
              "      <script>\n",
              "        const buttonEl =\n",
              "          document.querySelector('#df-51bb21e9-af2f-4ed5-bbd5-f091d4827a7f button.colab-df-convert');\n",
              "        buttonEl.style.display =\n",
              "          google.colab.kernel.accessAllowed ? 'block' : 'none';\n",
              "\n",
              "        async function convertToInteractive(key) {\n",
              "          const element = document.querySelector('#df-51bb21e9-af2f-4ed5-bbd5-f091d4827a7f');\n",
              "          const dataTable =\n",
              "            await google.colab.kernel.invokeFunction('convertToInteractive',\n",
              "                                                     [key], {});\n",
              "          if (!dataTable) return;\n",
              "\n",
              "          const docLinkHtml = 'Like what you see? Visit the ' +\n",
              "            '<a target=\"_blank\" href=https://colab.research.google.com/notebooks/data_table.ipynb>data table notebook</a>'\n",
              "            + ' to learn more about interactive tables.';\n",
              "          element.innerHTML = '';\n",
              "          dataTable['output_type'] = 'display_data';\n",
              "          await google.colab.output.renderOutput(dataTable, element);\n",
              "          const docLink = document.createElement('div');\n",
              "          docLink.innerHTML = docLinkHtml;\n",
              "          element.appendChild(docLink);\n",
              "        }\n",
              "      </script>\n",
              "    </div>\n",
              "  </div>\n",
              "  "
            ]
          },
          "metadata": {},
          "execution_count": 96
        }
      ]
    },
    {
      "cell_type": "code",
      "source": [
        "#checking datatypes and null values\n",
        "\n",
        "days.info()"
      ],
      "metadata": {
        "colab": {
          "base_uri": "https://localhost:8080/"
        },
        "id": "Rh49bc63bUHv",
        "outputId": "c5ce4e4c-574b-4117-e8e9-5071d5552d6d"
      },
      "execution_count": null,
      "outputs": [
        {
          "output_type": "stream",
          "name": "stdout",
          "text": [
            "<class 'pandas.core.frame.DataFrame'>\n",
            "RangeIndex: 730 entries, 0 to 729\n",
            "Data columns (total 16 columns):\n",
            " #   Column      Non-Null Count  Dtype  \n",
            "---  ------      --------------  -----  \n",
            " 0   instant     730 non-null    int64  \n",
            " 1   dteday      730 non-null    object \n",
            " 2   season      730 non-null    int64  \n",
            " 3   yr          730 non-null    int64  \n",
            " 4   mnth        730 non-null    int64  \n",
            " 5   holiday     730 non-null    int64  \n",
            " 6   weekday     730 non-null    int64  \n",
            " 7   workingday  730 non-null    int64  \n",
            " 8   weathersit  730 non-null    int64  \n",
            " 9   temp        730 non-null    float64\n",
            " 10  atemp       730 non-null    float64\n",
            " 11  hum         730 non-null    float64\n",
            " 12  windspeed   730 non-null    float64\n",
            " 13  casual      730 non-null    int64  \n",
            " 14  registered  730 non-null    int64  \n",
            " 15  cnt         730 non-null    int64  \n",
            "dtypes: float64(4), int64(11), object(1)\n",
            "memory usage: 91.4+ KB\n"
          ]
        }
      ]
    },
    {
      "cell_type": "markdown",
      "source": [
        "We can clearly see that there is no null values which is very good thing."
      ],
      "metadata": {
        "id": "EHOoDyd0bYrS"
      }
    },
    {
      "cell_type": "markdown",
      "source": [
        "## Step 2: Data Cleaning\n"
      ],
      "metadata": {
        "id": "Il-YHoV6Ws2Y"
      }
    },
    {
      "cell_type": "code",
      "source": [
        "#keeping data copy for safer side\n",
        "\n",
        "days1 = days.iloc[:,:16]\n",
        "days1.head()"
      ],
      "metadata": {
        "colab": {
          "base_uri": "https://localhost:8080/",
          "height": 206
        },
        "id": "_JpPCmfgWuav",
        "outputId": "a846d4ae-f9df-4c34-e879-bc9836383f35"
      },
      "execution_count": null,
      "outputs": [
        {
          "output_type": "execute_result",
          "data": {
            "text/plain": [
              "   instant      dteday  season  yr  mnth  holiday  weekday  workingday  \\\n",
              "0        1  01-01-2018       1   0     1        0        1           1   \n",
              "1        2  02-01-2018       1   0     1        0        2           1   \n",
              "2        3  03-01-2018       1   0     1        0        3           1   \n",
              "3        4  04-01-2018       1   0     1        0        4           1   \n",
              "4        5  05-01-2018       1   0     1        0        5           1   \n",
              "\n",
              "   weathersit       temp     atemp      hum  windspeed  casual  registered  \\\n",
              "0           2  14.110847  18.18125  80.5833  10.749882     331         654   \n",
              "1           2  14.902598  17.68695  69.6087  16.652113     131         670   \n",
              "2           1   8.050924   9.47025  43.7273  16.636703     120        1229   \n",
              "3           1   8.200000  10.60610  59.0435  10.739832     108        1454   \n",
              "4           1   9.305237  11.46350  43.6957  12.522300      82        1518   \n",
              "\n",
              "    cnt  \n",
              "0   985  \n",
              "1   801  \n",
              "2  1349  \n",
              "3  1562  \n",
              "4  1600  "
            ],
            "text/html": [
              "\n",
              "  <div id=\"df-c2bf8e9d-b07d-484f-bb62-30baed664474\">\n",
              "    <div class=\"colab-df-container\">\n",
              "      <div>\n",
              "<style scoped>\n",
              "    .dataframe tbody tr th:only-of-type {\n",
              "        vertical-align: middle;\n",
              "    }\n",
              "\n",
              "    .dataframe tbody tr th {\n",
              "        vertical-align: top;\n",
              "    }\n",
              "\n",
              "    .dataframe thead th {\n",
              "        text-align: right;\n",
              "    }\n",
              "</style>\n",
              "<table border=\"1\" class=\"dataframe\">\n",
              "  <thead>\n",
              "    <tr style=\"text-align: right;\">\n",
              "      <th></th>\n",
              "      <th>instant</th>\n",
              "      <th>dteday</th>\n",
              "      <th>season</th>\n",
              "      <th>yr</th>\n",
              "      <th>mnth</th>\n",
              "      <th>holiday</th>\n",
              "      <th>weekday</th>\n",
              "      <th>workingday</th>\n",
              "      <th>weathersit</th>\n",
              "      <th>temp</th>\n",
              "      <th>atemp</th>\n",
              "      <th>hum</th>\n",
              "      <th>windspeed</th>\n",
              "      <th>casual</th>\n",
              "      <th>registered</th>\n",
              "      <th>cnt</th>\n",
              "    </tr>\n",
              "  </thead>\n",
              "  <tbody>\n",
              "    <tr>\n",
              "      <th>0</th>\n",
              "      <td>1</td>\n",
              "      <td>01-01-2018</td>\n",
              "      <td>1</td>\n",
              "      <td>0</td>\n",
              "      <td>1</td>\n",
              "      <td>0</td>\n",
              "      <td>1</td>\n",
              "      <td>1</td>\n",
              "      <td>2</td>\n",
              "      <td>14.110847</td>\n",
              "      <td>18.18125</td>\n",
              "      <td>80.5833</td>\n",
              "      <td>10.749882</td>\n",
              "      <td>331</td>\n",
              "      <td>654</td>\n",
              "      <td>985</td>\n",
              "    </tr>\n",
              "    <tr>\n",
              "      <th>1</th>\n",
              "      <td>2</td>\n",
              "      <td>02-01-2018</td>\n",
              "      <td>1</td>\n",
              "      <td>0</td>\n",
              "      <td>1</td>\n",
              "      <td>0</td>\n",
              "      <td>2</td>\n",
              "      <td>1</td>\n",
              "      <td>2</td>\n",
              "      <td>14.902598</td>\n",
              "      <td>17.68695</td>\n",
              "      <td>69.6087</td>\n",
              "      <td>16.652113</td>\n",
              "      <td>131</td>\n",
              "      <td>670</td>\n",
              "      <td>801</td>\n",
              "    </tr>\n",
              "    <tr>\n",
              "      <th>2</th>\n",
              "      <td>3</td>\n",
              "      <td>03-01-2018</td>\n",
              "      <td>1</td>\n",
              "      <td>0</td>\n",
              "      <td>1</td>\n",
              "      <td>0</td>\n",
              "      <td>3</td>\n",
              "      <td>1</td>\n",
              "      <td>1</td>\n",
              "      <td>8.050924</td>\n",
              "      <td>9.47025</td>\n",
              "      <td>43.7273</td>\n",
              "      <td>16.636703</td>\n",
              "      <td>120</td>\n",
              "      <td>1229</td>\n",
              "      <td>1349</td>\n",
              "    </tr>\n",
              "    <tr>\n",
              "      <th>3</th>\n",
              "      <td>4</td>\n",
              "      <td>04-01-2018</td>\n",
              "      <td>1</td>\n",
              "      <td>0</td>\n",
              "      <td>1</td>\n",
              "      <td>0</td>\n",
              "      <td>4</td>\n",
              "      <td>1</td>\n",
              "      <td>1</td>\n",
              "      <td>8.200000</td>\n",
              "      <td>10.60610</td>\n",
              "      <td>59.0435</td>\n",
              "      <td>10.739832</td>\n",
              "      <td>108</td>\n",
              "      <td>1454</td>\n",
              "      <td>1562</td>\n",
              "    </tr>\n",
              "    <tr>\n",
              "      <th>4</th>\n",
              "      <td>5</td>\n",
              "      <td>05-01-2018</td>\n",
              "      <td>1</td>\n",
              "      <td>0</td>\n",
              "      <td>1</td>\n",
              "      <td>0</td>\n",
              "      <td>5</td>\n",
              "      <td>1</td>\n",
              "      <td>1</td>\n",
              "      <td>9.305237</td>\n",
              "      <td>11.46350</td>\n",
              "      <td>43.6957</td>\n",
              "      <td>12.522300</td>\n",
              "      <td>82</td>\n",
              "      <td>1518</td>\n",
              "      <td>1600</td>\n",
              "    </tr>\n",
              "  </tbody>\n",
              "</table>\n",
              "</div>\n",
              "      <button class=\"colab-df-convert\" onclick=\"convertToInteractive('df-c2bf8e9d-b07d-484f-bb62-30baed664474')\"\n",
              "              title=\"Convert this dataframe to an interactive table.\"\n",
              "              style=\"display:none;\">\n",
              "        \n",
              "  <svg xmlns=\"http://www.w3.org/2000/svg\" height=\"24px\"viewBox=\"0 0 24 24\"\n",
              "       width=\"24px\">\n",
              "    <path d=\"M0 0h24v24H0V0z\" fill=\"none\"/>\n",
              "    <path d=\"M18.56 5.44l.94 2.06.94-2.06 2.06-.94-2.06-.94-.94-2.06-.94 2.06-2.06.94zm-11 1L8.5 8.5l.94-2.06 2.06-.94-2.06-.94L8.5 2.5l-.94 2.06-2.06.94zm10 10l.94 2.06.94-2.06 2.06-.94-2.06-.94-.94-2.06-.94 2.06-2.06.94z\"/><path d=\"M17.41 7.96l-1.37-1.37c-.4-.4-.92-.59-1.43-.59-.52 0-1.04.2-1.43.59L10.3 9.45l-7.72 7.72c-.78.78-.78 2.05 0 2.83L4 21.41c.39.39.9.59 1.41.59.51 0 1.02-.2 1.41-.59l7.78-7.78 2.81-2.81c.8-.78.8-2.07 0-2.86zM5.41 20L4 18.59l7.72-7.72 1.47 1.35L5.41 20z\"/>\n",
              "  </svg>\n",
              "      </button>\n",
              "      \n",
              "  <style>\n",
              "    .colab-df-container {\n",
              "      display:flex;\n",
              "      flex-wrap:wrap;\n",
              "      gap: 12px;\n",
              "    }\n",
              "\n",
              "    .colab-df-convert {\n",
              "      background-color: #E8F0FE;\n",
              "      border: none;\n",
              "      border-radius: 50%;\n",
              "      cursor: pointer;\n",
              "      display: none;\n",
              "      fill: #1967D2;\n",
              "      height: 32px;\n",
              "      padding: 0 0 0 0;\n",
              "      width: 32px;\n",
              "    }\n",
              "\n",
              "    .colab-df-convert:hover {\n",
              "      background-color: #E2EBFA;\n",
              "      box-shadow: 0px 1px 2px rgba(60, 64, 67, 0.3), 0px 1px 3px 1px rgba(60, 64, 67, 0.15);\n",
              "      fill: #174EA6;\n",
              "    }\n",
              "\n",
              "    [theme=dark] .colab-df-convert {\n",
              "      background-color: #3B4455;\n",
              "      fill: #D2E3FC;\n",
              "    }\n",
              "\n",
              "    [theme=dark] .colab-df-convert:hover {\n",
              "      background-color: #434B5C;\n",
              "      box-shadow: 0px 1px 3px 1px rgba(0, 0, 0, 0.15);\n",
              "      filter: drop-shadow(0px 1px 2px rgba(0, 0, 0, 0.3));\n",
              "      fill: #FFFFFF;\n",
              "    }\n",
              "  </style>\n",
              "\n",
              "      <script>\n",
              "        const buttonEl =\n",
              "          document.querySelector('#df-c2bf8e9d-b07d-484f-bb62-30baed664474 button.colab-df-convert');\n",
              "        buttonEl.style.display =\n",
              "          google.colab.kernel.accessAllowed ? 'block' : 'none';\n",
              "\n",
              "        async function convertToInteractive(key) {\n",
              "          const element = document.querySelector('#df-c2bf8e9d-b07d-484f-bb62-30baed664474');\n",
              "          const dataTable =\n",
              "            await google.colab.kernel.invokeFunction('convertToInteractive',\n",
              "                                                     [key], {});\n",
              "          if (!dataTable) return;\n",
              "\n",
              "          const docLinkHtml = 'Like what you see? Visit the ' +\n",
              "            '<a target=\"_blank\" href=https://colab.research.google.com/notebooks/data_table.ipynb>data table notebook</a>'\n",
              "            + ' to learn more about interactive tables.';\n",
              "          element.innerHTML = '';\n",
              "          dataTable['output_type'] = 'display_data';\n",
              "          await google.colab.output.renderOutput(dataTable, element);\n",
              "          const docLink = document.createElement('div');\n",
              "          docLink.innerHTML = docLinkHtml;\n",
              "          element.appendChild(docLink);\n",
              "        }\n",
              "      </script>\n",
              "    </div>\n",
              "  </div>\n",
              "  "
            ]
          },
          "metadata": {},
          "execution_count": 98
        }
      ]
    },
    {
      "cell_type": "markdown",
      "source": [
        "Removing unwanted columns\n",
        "\n",
        "1. Dropping **instant** column as it is just carying index value.\n",
        "2. As we do have year and month column in data so we do not need this **dteday** column\n",
        "3. We do not need **casual** column as there is no such info needed.\n",
        "4. We do not need **registered** column as well"
      ],
      "metadata": {
        "id": "CnF0SMcWYrrC"
      }
    },
    {
      "cell_type": "code",
      "source": [
        "\n",
        "days.drop(['instant','dteday','casual','registered'], axis = 1, inplace = True)\n",
        "days.shape"
      ],
      "metadata": {
        "colab": {
          "base_uri": "https://localhost:8080/"
        },
        "id": "wRNkKHnWXuq7",
        "outputId": "3df350ea-9a9c-46b9-dca0-63b7f7488d5c"
      },
      "execution_count": null,
      "outputs": [
        {
          "output_type": "execute_result",
          "data": {
            "text/plain": [
              "(730, 12)"
            ]
          },
          "metadata": {},
          "execution_count": 99
        }
      ]
    },
    {
      "cell_type": "code",
      "source": [
        "days.head()"
      ],
      "metadata": {
        "colab": {
          "base_uri": "https://localhost:8080/",
          "height": 206
        },
        "id": "_Q8oCOEZcBiO",
        "outputId": "a944c803-3901-49ba-edbd-ccf1d266a2d9"
      },
      "execution_count": null,
      "outputs": [
        {
          "output_type": "execute_result",
          "data": {
            "text/plain": [
              "   season  yr  mnth  holiday  weekday  workingday  weathersit       temp  \\\n",
              "0       1   0     1        0        1           1           2  14.110847   \n",
              "1       1   0     1        0        2           1           2  14.902598   \n",
              "2       1   0     1        0        3           1           1   8.050924   \n",
              "3       1   0     1        0        4           1           1   8.200000   \n",
              "4       1   0     1        0        5           1           1   9.305237   \n",
              "\n",
              "      atemp      hum  windspeed   cnt  \n",
              "0  18.18125  80.5833  10.749882   985  \n",
              "1  17.68695  69.6087  16.652113   801  \n",
              "2   9.47025  43.7273  16.636703  1349  \n",
              "3  10.60610  59.0435  10.739832  1562  \n",
              "4  11.46350  43.6957  12.522300  1600  "
            ],
            "text/html": [
              "\n",
              "  <div id=\"df-6c72d987-03b0-498a-a52b-a64bfd374014\">\n",
              "    <div class=\"colab-df-container\">\n",
              "      <div>\n",
              "<style scoped>\n",
              "    .dataframe tbody tr th:only-of-type {\n",
              "        vertical-align: middle;\n",
              "    }\n",
              "\n",
              "    .dataframe tbody tr th {\n",
              "        vertical-align: top;\n",
              "    }\n",
              "\n",
              "    .dataframe thead th {\n",
              "        text-align: right;\n",
              "    }\n",
              "</style>\n",
              "<table border=\"1\" class=\"dataframe\">\n",
              "  <thead>\n",
              "    <tr style=\"text-align: right;\">\n",
              "      <th></th>\n",
              "      <th>season</th>\n",
              "      <th>yr</th>\n",
              "      <th>mnth</th>\n",
              "      <th>holiday</th>\n",
              "      <th>weekday</th>\n",
              "      <th>workingday</th>\n",
              "      <th>weathersit</th>\n",
              "      <th>temp</th>\n",
              "      <th>atemp</th>\n",
              "      <th>hum</th>\n",
              "      <th>windspeed</th>\n",
              "      <th>cnt</th>\n",
              "    </tr>\n",
              "  </thead>\n",
              "  <tbody>\n",
              "    <tr>\n",
              "      <th>0</th>\n",
              "      <td>1</td>\n",
              "      <td>0</td>\n",
              "      <td>1</td>\n",
              "      <td>0</td>\n",
              "      <td>1</td>\n",
              "      <td>1</td>\n",
              "      <td>2</td>\n",
              "      <td>14.110847</td>\n",
              "      <td>18.18125</td>\n",
              "      <td>80.5833</td>\n",
              "      <td>10.749882</td>\n",
              "      <td>985</td>\n",
              "    </tr>\n",
              "    <tr>\n",
              "      <th>1</th>\n",
              "      <td>1</td>\n",
              "      <td>0</td>\n",
              "      <td>1</td>\n",
              "      <td>0</td>\n",
              "      <td>2</td>\n",
              "      <td>1</td>\n",
              "      <td>2</td>\n",
              "      <td>14.902598</td>\n",
              "      <td>17.68695</td>\n",
              "      <td>69.6087</td>\n",
              "      <td>16.652113</td>\n",
              "      <td>801</td>\n",
              "    </tr>\n",
              "    <tr>\n",
              "      <th>2</th>\n",
              "      <td>1</td>\n",
              "      <td>0</td>\n",
              "      <td>1</td>\n",
              "      <td>0</td>\n",
              "      <td>3</td>\n",
              "      <td>1</td>\n",
              "      <td>1</td>\n",
              "      <td>8.050924</td>\n",
              "      <td>9.47025</td>\n",
              "      <td>43.7273</td>\n",
              "      <td>16.636703</td>\n",
              "      <td>1349</td>\n",
              "    </tr>\n",
              "    <tr>\n",
              "      <th>3</th>\n",
              "      <td>1</td>\n",
              "      <td>0</td>\n",
              "      <td>1</td>\n",
              "      <td>0</td>\n",
              "      <td>4</td>\n",
              "      <td>1</td>\n",
              "      <td>1</td>\n",
              "      <td>8.200000</td>\n",
              "      <td>10.60610</td>\n",
              "      <td>59.0435</td>\n",
              "      <td>10.739832</td>\n",
              "      <td>1562</td>\n",
              "    </tr>\n",
              "    <tr>\n",
              "      <th>4</th>\n",
              "      <td>1</td>\n",
              "      <td>0</td>\n",
              "      <td>1</td>\n",
              "      <td>0</td>\n",
              "      <td>5</td>\n",
              "      <td>1</td>\n",
              "      <td>1</td>\n",
              "      <td>9.305237</td>\n",
              "      <td>11.46350</td>\n",
              "      <td>43.6957</td>\n",
              "      <td>12.522300</td>\n",
              "      <td>1600</td>\n",
              "    </tr>\n",
              "  </tbody>\n",
              "</table>\n",
              "</div>\n",
              "      <button class=\"colab-df-convert\" onclick=\"convertToInteractive('df-6c72d987-03b0-498a-a52b-a64bfd374014')\"\n",
              "              title=\"Convert this dataframe to an interactive table.\"\n",
              "              style=\"display:none;\">\n",
              "        \n",
              "  <svg xmlns=\"http://www.w3.org/2000/svg\" height=\"24px\"viewBox=\"0 0 24 24\"\n",
              "       width=\"24px\">\n",
              "    <path d=\"M0 0h24v24H0V0z\" fill=\"none\"/>\n",
              "    <path d=\"M18.56 5.44l.94 2.06.94-2.06 2.06-.94-2.06-.94-.94-2.06-.94 2.06-2.06.94zm-11 1L8.5 8.5l.94-2.06 2.06-.94-2.06-.94L8.5 2.5l-.94 2.06-2.06.94zm10 10l.94 2.06.94-2.06 2.06-.94-2.06-.94-.94-2.06-.94 2.06-2.06.94z\"/><path d=\"M17.41 7.96l-1.37-1.37c-.4-.4-.92-.59-1.43-.59-.52 0-1.04.2-1.43.59L10.3 9.45l-7.72 7.72c-.78.78-.78 2.05 0 2.83L4 21.41c.39.39.9.59 1.41.59.51 0 1.02-.2 1.41-.59l7.78-7.78 2.81-2.81c.8-.78.8-2.07 0-2.86zM5.41 20L4 18.59l7.72-7.72 1.47 1.35L5.41 20z\"/>\n",
              "  </svg>\n",
              "      </button>\n",
              "      \n",
              "  <style>\n",
              "    .colab-df-container {\n",
              "      display:flex;\n",
              "      flex-wrap:wrap;\n",
              "      gap: 12px;\n",
              "    }\n",
              "\n",
              "    .colab-df-convert {\n",
              "      background-color: #E8F0FE;\n",
              "      border: none;\n",
              "      border-radius: 50%;\n",
              "      cursor: pointer;\n",
              "      display: none;\n",
              "      fill: #1967D2;\n",
              "      height: 32px;\n",
              "      padding: 0 0 0 0;\n",
              "      width: 32px;\n",
              "    }\n",
              "\n",
              "    .colab-df-convert:hover {\n",
              "      background-color: #E2EBFA;\n",
              "      box-shadow: 0px 1px 2px rgba(60, 64, 67, 0.3), 0px 1px 3px 1px rgba(60, 64, 67, 0.15);\n",
              "      fill: #174EA6;\n",
              "    }\n",
              "\n",
              "    [theme=dark] .colab-df-convert {\n",
              "      background-color: #3B4455;\n",
              "      fill: #D2E3FC;\n",
              "    }\n",
              "\n",
              "    [theme=dark] .colab-df-convert:hover {\n",
              "      background-color: #434B5C;\n",
              "      box-shadow: 0px 1px 3px 1px rgba(0, 0, 0, 0.15);\n",
              "      filter: drop-shadow(0px 1px 2px rgba(0, 0, 0, 0.3));\n",
              "      fill: #FFFFFF;\n",
              "    }\n",
              "  </style>\n",
              "\n",
              "      <script>\n",
              "        const buttonEl =\n",
              "          document.querySelector('#df-6c72d987-03b0-498a-a52b-a64bfd374014 button.colab-df-convert');\n",
              "        buttonEl.style.display =\n",
              "          google.colab.kernel.accessAllowed ? 'block' : 'none';\n",
              "\n",
              "        async function convertToInteractive(key) {\n",
              "          const element = document.querySelector('#df-6c72d987-03b0-498a-a52b-a64bfd374014');\n",
              "          const dataTable =\n",
              "            await google.colab.kernel.invokeFunction('convertToInteractive',\n",
              "                                                     [key], {});\n",
              "          if (!dataTable) return;\n",
              "\n",
              "          const docLinkHtml = 'Like what you see? Visit the ' +\n",
              "            '<a target=\"_blank\" href=https://colab.research.google.com/notebooks/data_table.ipynb>data table notebook</a>'\n",
              "            + ' to learn more about interactive tables.';\n",
              "          element.innerHTML = '';\n",
              "          dataTable['output_type'] = 'display_data';\n",
              "          await google.colab.output.renderOutput(dataTable, element);\n",
              "          const docLink = document.createElement('div');\n",
              "          docLink.innerHTML = docLinkHtml;\n",
              "          element.appendChild(docLink);\n",
              "        }\n",
              "      </script>\n",
              "    </div>\n",
              "  </div>\n",
              "  "
            ]
          },
          "metadata": {},
          "execution_count": 100
        }
      ]
    },
    {
      "cell_type": "markdown",
      "source": [
        "## Step 3: Data Visualisation"
      ],
      "metadata": {
        "id": "DxwTnGoUaG7Z"
      }
    },
    {
      "cell_type": "code",
      "source": [
        "#Replacing month number into month name\n",
        "days.mnth = days.mnth.map({1:'jan',2:'feb',3:'mar',4:'apr',5:'may',6:'june',7:'july',8:'aug',9:'sep',10:'oct',11:'nov',12:'dec'})\n",
        "\n",
        "#Replacing month number into month name\n",
        "days.weekday = days.weekday.map({0:'sun',1:'mon',2:'tue',3:'wed',4:'thu',5:'fri',6:'sat'})\n",
        "\n",
        "#Replacing Season num into season label\n",
        "days.season = days.season.map({1:'spring', 2:'summer', 3:'fall', 4:'winter'})\n",
        "\n",
        "#Replacing weather situation into label\n",
        "days.weathersit = days.weathersit.map({1:'Clear',2:'Mist',3:'LightxSnow',4:'HeavyxRain'})\n",
        "\n",
        "#Replacing 0, 1 into the year\n",
        "days.yr = days.yr.map({1:'2019',0:'2018'})\n"
      ],
      "metadata": {
        "id": "x6AeS8UjZ8sG"
      },
      "execution_count": null,
      "outputs": []
    },
    {
      "cell_type": "code",
      "source": [
        "days.head()"
      ],
      "metadata": {
        "colab": {
          "base_uri": "https://localhost:8080/",
          "height": 206
        },
        "id": "AFUMmZZjf1Z_",
        "outputId": "a614fb8a-158b-468c-f887-46170b0ee855"
      },
      "execution_count": null,
      "outputs": [
        {
          "output_type": "execute_result",
          "data": {
            "text/plain": [
              "   season    yr mnth  holiday weekday  workingday weathersit       temp  \\\n",
              "0  spring  2018  jan        0     mon           1       Mist  14.110847   \n",
              "1  spring  2018  jan        0     tue           1       Mist  14.902598   \n",
              "2  spring  2018  jan        0     wed           1      Clear   8.050924   \n",
              "3  spring  2018  jan        0     thu           1      Clear   8.200000   \n",
              "4  spring  2018  jan        0     fri           1      Clear   9.305237   \n",
              "\n",
              "      atemp      hum  windspeed   cnt  \n",
              "0  18.18125  80.5833  10.749882   985  \n",
              "1  17.68695  69.6087  16.652113   801  \n",
              "2   9.47025  43.7273  16.636703  1349  \n",
              "3  10.60610  59.0435  10.739832  1562  \n",
              "4  11.46350  43.6957  12.522300  1600  "
            ],
            "text/html": [
              "\n",
              "  <div id=\"df-deb03b6e-8ca1-498d-acbb-1a79f79761f8\">\n",
              "    <div class=\"colab-df-container\">\n",
              "      <div>\n",
              "<style scoped>\n",
              "    .dataframe tbody tr th:only-of-type {\n",
              "        vertical-align: middle;\n",
              "    }\n",
              "\n",
              "    .dataframe tbody tr th {\n",
              "        vertical-align: top;\n",
              "    }\n",
              "\n",
              "    .dataframe thead th {\n",
              "        text-align: right;\n",
              "    }\n",
              "</style>\n",
              "<table border=\"1\" class=\"dataframe\">\n",
              "  <thead>\n",
              "    <tr style=\"text-align: right;\">\n",
              "      <th></th>\n",
              "      <th>season</th>\n",
              "      <th>yr</th>\n",
              "      <th>mnth</th>\n",
              "      <th>holiday</th>\n",
              "      <th>weekday</th>\n",
              "      <th>workingday</th>\n",
              "      <th>weathersit</th>\n",
              "      <th>temp</th>\n",
              "      <th>atemp</th>\n",
              "      <th>hum</th>\n",
              "      <th>windspeed</th>\n",
              "      <th>cnt</th>\n",
              "    </tr>\n",
              "  </thead>\n",
              "  <tbody>\n",
              "    <tr>\n",
              "      <th>0</th>\n",
              "      <td>spring</td>\n",
              "      <td>2018</td>\n",
              "      <td>jan</td>\n",
              "      <td>0</td>\n",
              "      <td>mon</td>\n",
              "      <td>1</td>\n",
              "      <td>Mist</td>\n",
              "      <td>14.110847</td>\n",
              "      <td>18.18125</td>\n",
              "      <td>80.5833</td>\n",
              "      <td>10.749882</td>\n",
              "      <td>985</td>\n",
              "    </tr>\n",
              "    <tr>\n",
              "      <th>1</th>\n",
              "      <td>spring</td>\n",
              "      <td>2018</td>\n",
              "      <td>jan</td>\n",
              "      <td>0</td>\n",
              "      <td>tue</td>\n",
              "      <td>1</td>\n",
              "      <td>Mist</td>\n",
              "      <td>14.902598</td>\n",
              "      <td>17.68695</td>\n",
              "      <td>69.6087</td>\n",
              "      <td>16.652113</td>\n",
              "      <td>801</td>\n",
              "    </tr>\n",
              "    <tr>\n",
              "      <th>2</th>\n",
              "      <td>spring</td>\n",
              "      <td>2018</td>\n",
              "      <td>jan</td>\n",
              "      <td>0</td>\n",
              "      <td>wed</td>\n",
              "      <td>1</td>\n",
              "      <td>Clear</td>\n",
              "      <td>8.050924</td>\n",
              "      <td>9.47025</td>\n",
              "      <td>43.7273</td>\n",
              "      <td>16.636703</td>\n",
              "      <td>1349</td>\n",
              "    </tr>\n",
              "    <tr>\n",
              "      <th>3</th>\n",
              "      <td>spring</td>\n",
              "      <td>2018</td>\n",
              "      <td>jan</td>\n",
              "      <td>0</td>\n",
              "      <td>thu</td>\n",
              "      <td>1</td>\n",
              "      <td>Clear</td>\n",
              "      <td>8.200000</td>\n",
              "      <td>10.60610</td>\n",
              "      <td>59.0435</td>\n",
              "      <td>10.739832</td>\n",
              "      <td>1562</td>\n",
              "    </tr>\n",
              "    <tr>\n",
              "      <th>4</th>\n",
              "      <td>spring</td>\n",
              "      <td>2018</td>\n",
              "      <td>jan</td>\n",
              "      <td>0</td>\n",
              "      <td>fri</td>\n",
              "      <td>1</td>\n",
              "      <td>Clear</td>\n",
              "      <td>9.305237</td>\n",
              "      <td>11.46350</td>\n",
              "      <td>43.6957</td>\n",
              "      <td>12.522300</td>\n",
              "      <td>1600</td>\n",
              "    </tr>\n",
              "  </tbody>\n",
              "</table>\n",
              "</div>\n",
              "      <button class=\"colab-df-convert\" onclick=\"convertToInteractive('df-deb03b6e-8ca1-498d-acbb-1a79f79761f8')\"\n",
              "              title=\"Convert this dataframe to an interactive table.\"\n",
              "              style=\"display:none;\">\n",
              "        \n",
              "  <svg xmlns=\"http://www.w3.org/2000/svg\" height=\"24px\"viewBox=\"0 0 24 24\"\n",
              "       width=\"24px\">\n",
              "    <path d=\"M0 0h24v24H0V0z\" fill=\"none\"/>\n",
              "    <path d=\"M18.56 5.44l.94 2.06.94-2.06 2.06-.94-2.06-.94-.94-2.06-.94 2.06-2.06.94zm-11 1L8.5 8.5l.94-2.06 2.06-.94-2.06-.94L8.5 2.5l-.94 2.06-2.06.94zm10 10l.94 2.06.94-2.06 2.06-.94-2.06-.94-.94-2.06-.94 2.06-2.06.94z\"/><path d=\"M17.41 7.96l-1.37-1.37c-.4-.4-.92-.59-1.43-.59-.52 0-1.04.2-1.43.59L10.3 9.45l-7.72 7.72c-.78.78-.78 2.05 0 2.83L4 21.41c.39.39.9.59 1.41.59.51 0 1.02-.2 1.41-.59l7.78-7.78 2.81-2.81c.8-.78.8-2.07 0-2.86zM5.41 20L4 18.59l7.72-7.72 1.47 1.35L5.41 20z\"/>\n",
              "  </svg>\n",
              "      </button>\n",
              "      \n",
              "  <style>\n",
              "    .colab-df-container {\n",
              "      display:flex;\n",
              "      flex-wrap:wrap;\n",
              "      gap: 12px;\n",
              "    }\n",
              "\n",
              "    .colab-df-convert {\n",
              "      background-color: #E8F0FE;\n",
              "      border: none;\n",
              "      border-radius: 50%;\n",
              "      cursor: pointer;\n",
              "      display: none;\n",
              "      fill: #1967D2;\n",
              "      height: 32px;\n",
              "      padding: 0 0 0 0;\n",
              "      width: 32px;\n",
              "    }\n",
              "\n",
              "    .colab-df-convert:hover {\n",
              "      background-color: #E2EBFA;\n",
              "      box-shadow: 0px 1px 2px rgba(60, 64, 67, 0.3), 0px 1px 3px 1px rgba(60, 64, 67, 0.15);\n",
              "      fill: #174EA6;\n",
              "    }\n",
              "\n",
              "    [theme=dark] .colab-df-convert {\n",
              "      background-color: #3B4455;\n",
              "      fill: #D2E3FC;\n",
              "    }\n",
              "\n",
              "    [theme=dark] .colab-df-convert:hover {\n",
              "      background-color: #434B5C;\n",
              "      box-shadow: 0px 1px 3px 1px rgba(0, 0, 0, 0.15);\n",
              "      filter: drop-shadow(0px 1px 2px rgba(0, 0, 0, 0.3));\n",
              "      fill: #FFFFFF;\n",
              "    }\n",
              "  </style>\n",
              "\n",
              "      <script>\n",
              "        const buttonEl =\n",
              "          document.querySelector('#df-deb03b6e-8ca1-498d-acbb-1a79f79761f8 button.colab-df-convert');\n",
              "        buttonEl.style.display =\n",
              "          google.colab.kernel.accessAllowed ? 'block' : 'none';\n",
              "\n",
              "        async function convertToInteractive(key) {\n",
              "          const element = document.querySelector('#df-deb03b6e-8ca1-498d-acbb-1a79f79761f8');\n",
              "          const dataTable =\n",
              "            await google.colab.kernel.invokeFunction('convertToInteractive',\n",
              "                                                     [key], {});\n",
              "          if (!dataTable) return;\n",
              "\n",
              "          const docLinkHtml = 'Like what you see? Visit the ' +\n",
              "            '<a target=\"_blank\" href=https://colab.research.google.com/notebooks/data_table.ipynb>data table notebook</a>'\n",
              "            + ' to learn more about interactive tables.';\n",
              "          element.innerHTML = '';\n",
              "          dataTable['output_type'] = 'display_data';\n",
              "          await google.colab.output.renderOutput(dataTable, element);\n",
              "          const docLink = document.createElement('div');\n",
              "          docLink.innerHTML = docLinkHtml;\n",
              "          element.appendChild(docLink);\n",
              "        }\n",
              "      </script>\n",
              "    </div>\n",
              "  </div>\n",
              "  "
            ]
          },
          "metadata": {},
          "execution_count": 102
        }
      ]
    },
    {
      "cell_type": "code",
      "source": [
        "days.corr()"
      ],
      "metadata": {
        "colab": {
          "base_uri": "https://localhost:8080/",
          "height": 269
        },
        "id": "EX-Rl2x_fzK5",
        "outputId": "cbd80913-2365-4041-91e9-d9c02006c8ad"
      },
      "execution_count": null,
      "outputs": [
        {
          "output_type": "execute_result",
          "data": {
            "text/plain": [
              "             holiday  workingday      temp     atemp       hum  windspeed  \\\n",
              "holiday     1.000000   -0.257009 -0.028764 -0.032703 -0.015662   0.006257   \n",
              "workingday -0.257009    1.000000  0.002044  0.010657  0.053770  -0.002453   \n",
              "temp       -0.028764    0.002044  1.000000  0.991696  0.128565  -0.158186   \n",
              "atemp      -0.032703    0.010657  0.991696  1.000000  0.141512  -0.183876   \n",
              "hum        -0.015662    0.053770  0.128565  0.141512  1.000000  -0.248506   \n",
              "windspeed   0.006257   -0.002453 -0.158186 -0.183876 -0.248506   1.000000   \n",
              "cnt        -0.068764   -0.027640  0.627044  0.630685 -0.098543  -0.235132   \n",
              "\n",
              "                 cnt  \n",
              "holiday    -0.068764  \n",
              "workingday -0.027640  \n",
              "temp        0.627044  \n",
              "atemp       0.630685  \n",
              "hum        -0.098543  \n",
              "windspeed  -0.235132  \n",
              "cnt         1.000000  "
            ],
            "text/html": [
              "\n",
              "  <div id=\"df-00d5be5a-18eb-4f78-a2bb-757bc820d01c\">\n",
              "    <div class=\"colab-df-container\">\n",
              "      <div>\n",
              "<style scoped>\n",
              "    .dataframe tbody tr th:only-of-type {\n",
              "        vertical-align: middle;\n",
              "    }\n",
              "\n",
              "    .dataframe tbody tr th {\n",
              "        vertical-align: top;\n",
              "    }\n",
              "\n",
              "    .dataframe thead th {\n",
              "        text-align: right;\n",
              "    }\n",
              "</style>\n",
              "<table border=\"1\" class=\"dataframe\">\n",
              "  <thead>\n",
              "    <tr style=\"text-align: right;\">\n",
              "      <th></th>\n",
              "      <th>holiday</th>\n",
              "      <th>workingday</th>\n",
              "      <th>temp</th>\n",
              "      <th>atemp</th>\n",
              "      <th>hum</th>\n",
              "      <th>windspeed</th>\n",
              "      <th>cnt</th>\n",
              "    </tr>\n",
              "  </thead>\n",
              "  <tbody>\n",
              "    <tr>\n",
              "      <th>holiday</th>\n",
              "      <td>1.000000</td>\n",
              "      <td>-0.257009</td>\n",
              "      <td>-0.028764</td>\n",
              "      <td>-0.032703</td>\n",
              "      <td>-0.015662</td>\n",
              "      <td>0.006257</td>\n",
              "      <td>-0.068764</td>\n",
              "    </tr>\n",
              "    <tr>\n",
              "      <th>workingday</th>\n",
              "      <td>-0.257009</td>\n",
              "      <td>1.000000</td>\n",
              "      <td>0.002044</td>\n",
              "      <td>0.010657</td>\n",
              "      <td>0.053770</td>\n",
              "      <td>-0.002453</td>\n",
              "      <td>-0.027640</td>\n",
              "    </tr>\n",
              "    <tr>\n",
              "      <th>temp</th>\n",
              "      <td>-0.028764</td>\n",
              "      <td>0.002044</td>\n",
              "      <td>1.000000</td>\n",
              "      <td>0.991696</td>\n",
              "      <td>0.128565</td>\n",
              "      <td>-0.158186</td>\n",
              "      <td>0.627044</td>\n",
              "    </tr>\n",
              "    <tr>\n",
              "      <th>atemp</th>\n",
              "      <td>-0.032703</td>\n",
              "      <td>0.010657</td>\n",
              "      <td>0.991696</td>\n",
              "      <td>1.000000</td>\n",
              "      <td>0.141512</td>\n",
              "      <td>-0.183876</td>\n",
              "      <td>0.630685</td>\n",
              "    </tr>\n",
              "    <tr>\n",
              "      <th>hum</th>\n",
              "      <td>-0.015662</td>\n",
              "      <td>0.053770</td>\n",
              "      <td>0.128565</td>\n",
              "      <td>0.141512</td>\n",
              "      <td>1.000000</td>\n",
              "      <td>-0.248506</td>\n",
              "      <td>-0.098543</td>\n",
              "    </tr>\n",
              "    <tr>\n",
              "      <th>windspeed</th>\n",
              "      <td>0.006257</td>\n",
              "      <td>-0.002453</td>\n",
              "      <td>-0.158186</td>\n",
              "      <td>-0.183876</td>\n",
              "      <td>-0.248506</td>\n",
              "      <td>1.000000</td>\n",
              "      <td>-0.235132</td>\n",
              "    </tr>\n",
              "    <tr>\n",
              "      <th>cnt</th>\n",
              "      <td>-0.068764</td>\n",
              "      <td>-0.027640</td>\n",
              "      <td>0.627044</td>\n",
              "      <td>0.630685</td>\n",
              "      <td>-0.098543</td>\n",
              "      <td>-0.235132</td>\n",
              "      <td>1.000000</td>\n",
              "    </tr>\n",
              "  </tbody>\n",
              "</table>\n",
              "</div>\n",
              "      <button class=\"colab-df-convert\" onclick=\"convertToInteractive('df-00d5be5a-18eb-4f78-a2bb-757bc820d01c')\"\n",
              "              title=\"Convert this dataframe to an interactive table.\"\n",
              "              style=\"display:none;\">\n",
              "        \n",
              "  <svg xmlns=\"http://www.w3.org/2000/svg\" height=\"24px\"viewBox=\"0 0 24 24\"\n",
              "       width=\"24px\">\n",
              "    <path d=\"M0 0h24v24H0V0z\" fill=\"none\"/>\n",
              "    <path d=\"M18.56 5.44l.94 2.06.94-2.06 2.06-.94-2.06-.94-.94-2.06-.94 2.06-2.06.94zm-11 1L8.5 8.5l.94-2.06 2.06-.94-2.06-.94L8.5 2.5l-.94 2.06-2.06.94zm10 10l.94 2.06.94-2.06 2.06-.94-2.06-.94-.94-2.06-.94 2.06-2.06.94z\"/><path d=\"M17.41 7.96l-1.37-1.37c-.4-.4-.92-.59-1.43-.59-.52 0-1.04.2-1.43.59L10.3 9.45l-7.72 7.72c-.78.78-.78 2.05 0 2.83L4 21.41c.39.39.9.59 1.41.59.51 0 1.02-.2 1.41-.59l7.78-7.78 2.81-2.81c.8-.78.8-2.07 0-2.86zM5.41 20L4 18.59l7.72-7.72 1.47 1.35L5.41 20z\"/>\n",
              "  </svg>\n",
              "      </button>\n",
              "      \n",
              "  <style>\n",
              "    .colab-df-container {\n",
              "      display:flex;\n",
              "      flex-wrap:wrap;\n",
              "      gap: 12px;\n",
              "    }\n",
              "\n",
              "    .colab-df-convert {\n",
              "      background-color: #E8F0FE;\n",
              "      border: none;\n",
              "      border-radius: 50%;\n",
              "      cursor: pointer;\n",
              "      display: none;\n",
              "      fill: #1967D2;\n",
              "      height: 32px;\n",
              "      padding: 0 0 0 0;\n",
              "      width: 32px;\n",
              "    }\n",
              "\n",
              "    .colab-df-convert:hover {\n",
              "      background-color: #E2EBFA;\n",
              "      box-shadow: 0px 1px 2px rgba(60, 64, 67, 0.3), 0px 1px 3px 1px rgba(60, 64, 67, 0.15);\n",
              "      fill: #174EA6;\n",
              "    }\n",
              "\n",
              "    [theme=dark] .colab-df-convert {\n",
              "      background-color: #3B4455;\n",
              "      fill: #D2E3FC;\n",
              "    }\n",
              "\n",
              "    [theme=dark] .colab-df-convert:hover {\n",
              "      background-color: #434B5C;\n",
              "      box-shadow: 0px 1px 3px 1px rgba(0, 0, 0, 0.15);\n",
              "      filter: drop-shadow(0px 1px 2px rgba(0, 0, 0, 0.3));\n",
              "      fill: #FFFFFF;\n",
              "    }\n",
              "  </style>\n",
              "\n",
              "      <script>\n",
              "        const buttonEl =\n",
              "          document.querySelector('#df-00d5be5a-18eb-4f78-a2bb-757bc820d01c button.colab-df-convert');\n",
              "        buttonEl.style.display =\n",
              "          google.colab.kernel.accessAllowed ? 'block' : 'none';\n",
              "\n",
              "        async function convertToInteractive(key) {\n",
              "          const element = document.querySelector('#df-00d5be5a-18eb-4f78-a2bb-757bc820d01c');\n",
              "          const dataTable =\n",
              "            await google.colab.kernel.invokeFunction('convertToInteractive',\n",
              "                                                     [key], {});\n",
              "          if (!dataTable) return;\n",
              "\n",
              "          const docLinkHtml = 'Like what you see? Visit the ' +\n",
              "            '<a target=\"_blank\" href=https://colab.research.google.com/notebooks/data_table.ipynb>data table notebook</a>'\n",
              "            + ' to learn more about interactive tables.';\n",
              "          element.innerHTML = '';\n",
              "          dataTable['output_type'] = 'display_data';\n",
              "          await google.colab.output.renderOutput(dataTable, element);\n",
              "          const docLink = document.createElement('div');\n",
              "          docLink.innerHTML = docLinkHtml;\n",
              "          element.appendChild(docLink);\n",
              "        }\n",
              "      </script>\n",
              "    </div>\n",
              "  </div>\n",
              "  "
            ]
          },
          "metadata": {},
          "execution_count": 103
        }
      ]
    },
    {
      "cell_type": "code",
      "source": [
        "co = days[['temp','atemp','hum','windspeed','cnt']]\n",
        "plt.figure(figsize = (6,6))\n",
        "sns.heatmap(co.corr(), annot = True, cmap=\"YlOrRd\")\n",
        "plt.show()"
      ],
      "metadata": {
        "colab": {
          "base_uri": "https://localhost:8080/",
          "height": 378
        },
        "id": "d3FvuJUcNyJU",
        "outputId": "39834eaf-232d-472f-e5f5-aa8ceac5f4bc"
      },
      "execution_count": null,
      "outputs": [
        {
          "output_type": "display_data",
          "data": {
            "text/plain": [
              "<Figure size 432x432 with 2 Axes>"
            ],
            "image/png": "[encoded data removed]"
          },
          "metadata": {
            "needs_background": "light"
          }
        }
      ]
    },
    {
      "cell_type": "markdown",
      "source": [
        "### Visualising numerical value"
      ],
      "metadata": {
        "id": "lo0Ruo7A1c3Z"
      }
    },
    {
      "cell_type": "code",
      "source": [
        "## Visualising numerical value and checkig for linear relationship\n",
        "\n",
        "plt.figure(figsize = (12,24))\n",
        "sns.pairplot(data=days,vars=['temp','atemp','hum','windspeed','cnt'])\n",
        "plt.show()"
      ],
      "metadata": {
        "colab": {
          "base_uri": "https://localhost:8080/",
          "height": 921
        },
        "id": "pqLqcZ9FlaLQ",
        "outputId": "de789448-6de6-47b9-d572-63502ab11ab4"
      },
      "execution_count": null,
      "outputs": [
        {
          "output_type": "display_data",
          "data": {
            "text/plain": [
              "<Figure size 864x1728 with 0 Axes>"
            ]
          },
          "metadata": {}
        },
        {
          "output_type": "display_data",
          "data": {
            "text/plain": [
              "<Figure size 900x900 with 30 Axes>"
            ],
            "image/png": "[encoded data removed]"
          },
          "metadata": {
            "needs_background": "light"
          }
        }
      ]
    },
    {
      "cell_type": "markdown",
      "source": [
        "### Visualising Categorical Variables\n",
        "\n",
        "As you might have noticed, there are a few categorical variables as well. Let's make a boxplot for some of these variables."
      ],
      "metadata": {
        "id": "_IdYTYaS1PlX"
      }
    },
    {
      "cell_type": "code",
      "source": [
        "plt.figure(figsize=(18, 15))\n",
        "plt.subplot(3,3,1)\n",
        "sns.boxplot(x = 'season', y = 'cnt', data = days)\n",
        "plt.subplot(3,3,2)\n",
        "sns.boxplot(x = 'mnth', y = 'cnt', data = days)\n",
        "plt.subplot(3,3,3)\n",
        "sns.boxplot(x = 'weekday', y = 'cnt', data = days)\n",
        "plt.subplot(3,3,4)\n",
        "sns.boxplot(x = 'weathersit', y = 'cnt', data = days)\n",
        "plt.subplot(3,3,5)\n",
        "sns.boxplot(x = 'holiday', y = 'cnt', data = days)\n",
        "plt.subplot(3,3,6)\n",
        "sns.boxplot(x = 'workingday', y = 'cnt', data = days)\n",
        "plt.subplot(3,3,7)\n",
        "sns.boxplot(x = 'yr', y = 'cnt', data = days)\n",
        "plt.show()"
      ],
      "metadata": {
        "colab": {
          "base_uri": "https://localhost:8080/",
          "height": 877
        },
        "id": "w8fW6gksmm9K",
        "outputId": "381ebfdc-8d7d-4220-c2f3-1f506128f611"
      },
      "execution_count": null,
      "outputs": [
        {
          "output_type": "display_data",
          "data": {
            "text/plain": [
              "<Figure size 1296x1080 with 7 Axes>"
            ],
            "image/png": "[encoded data removed]"
          },
          "metadata": {
            "needs_background": "light"
          }
        }
      ]
    },
    {
      "cell_type": "markdown",
      "source": [
        "Comparing 'cnt' column with respect to year"
      ],
      "metadata": {
        "id": "Jd646t-d7X_B"
      }
    },
    {
      "cell_type": "code",
      "source": [
        "plt.figure(figsize=(14, 7))\n",
        "plt.subplot(1,2,1)\n",
        "sns.barplot(data = days, x = 'season', y='cnt')\n",
        "plt.subplot(1,2,2)\n",
        "sns.barplot(data = days, x = 'season', y='cnt', hue = 'yr')\n",
        "plt.show()"
      ],
      "metadata": {
        "colab": {
          "base_uri": "https://localhost:8080/",
          "height": 442
        },
        "id": "EAJXr8XSBjQP",
        "outputId": "86df4bbe-dc00-4751-e118-23e2a83824a0"
      },
      "execution_count": null,
      "outputs": [
        {
          "output_type": "display_data",
          "data": {
            "text/plain": [
              "<Figure size 1008x504 with 2 Axes>"
            ],
            "image/png": "[encoded data removed]"
          },
          "metadata": {
            "needs_background": "light"
          }
        }
      ]
    },
    {
      "cell_type": "code",
      "source": [
        "plt.figure(figsize=(16, 7))\n",
        "plt.subplot(1,2,1)\n",
        "sns.barplot(data = days, x = 'mnth', y='cnt')\n",
        "plt.subplot(1,2,2)\n",
        "sns.barplot(data = days, x = 'mnth', y='cnt', hue = 'yr')\n",
        "plt.show()"
      ],
      "metadata": {
        "colab": {
          "base_uri": "https://localhost:8080/",
          "height": 446
        },
        "id": "YnJh5jUoJPIW",
        "outputId": "2e674446-583e-4a90-b94d-01ec5405eb74"
      },
      "execution_count": null,
      "outputs": [
        {
          "output_type": "display_data",
          "data": {
            "text/plain": [
              "<Figure size 1152x504 with 2 Axes>"
            ],
            "image/png": "[encoded data removed]"
          },
          "metadata": {
            "needs_background": "light"
          }
        }
      ]
    },
    {
      "cell_type": "code",
      "source": [
        "plt.figure(figsize=(12, 6))\n",
        "plt.subplot(1,2,1)\n",
        "sns.barplot(data = days, x = 'holiday', y='cnt')\n",
        "plt.subplot(1,2,2)\n",
        "sns.barplot(data = days, x = 'holiday', y='cnt', hue = 'yr')\n",
        "plt.show()"
      ],
      "metadata": {
        "colab": {
          "base_uri": "https://localhost:8080/",
          "height": 388
        },
        "id": "wQ8BSlfaJ7Mb",
        "outputId": "4075b13c-3782-4948-9551-2845b8c2ef11"
      },
      "execution_count": null,
      "outputs": [
        {
          "output_type": "display_data",
          "data": {
            "text/plain": [
              "<Figure size 864x432 with 2 Axes>"
            ],
            "image/png": "[encoded data removed]"
          },
          "metadata": {
            "needs_background": "light"
          }
        }
      ]
    },
    {
      "cell_type": "code",
      "source": [
        "plt.figure(figsize=(12, 6))\n",
        "plt.subplot(1,2,1)\n",
        "sns.barplot(data = days, x = 'weekday', y='cnt')\n",
        "plt.subplot(1,2,2)\n",
        "sns.barplot(data = days, x = 'weekday', y='cnt', hue = 'yr')\n",
        "plt.show()"
      ],
      "metadata": {
        "colab": {
          "base_uri": "https://localhost:8080/",
          "height": 388
        },
        "id": "JF0ZTYt9MaZw",
        "outputId": "d571fd26-5645-455d-bb0e-8fa2619df4dc"
      },
      "execution_count": null,
      "outputs": [
        {
          "output_type": "display_data",
          "data": {
            "text/plain": [
              "<Figure size 864x432 with 2 Axes>"
            ],
            "image/png": "[encoded data removed]"
          },
          "metadata": {
            "needs_background": "light"
          }
        }
      ]
    },
    {
      "cell_type": "code",
      "source": [
        "plt.figure(figsize=(12, 6))\n",
        "plt.subplot(1,2,1)\n",
        "sns.barplot(data = days, x = 'workingday', y='cnt')\n",
        "plt.subplot(1,2,2)\n",
        "sns.barplot(data = days, x = 'workingday', y='cnt', hue = 'yr')\n",
        "plt.show()"
      ],
      "metadata": {
        "colab": {
          "base_uri": "https://localhost:8080/",
          "height": 388
        },
        "id": "kSw_L7KHM0OO",
        "outputId": "f8c8a3e0-6097-4102-c0ec-16d51c9f19cb"
      },
      "execution_count": null,
      "outputs": [
        {
          "output_type": "display_data",
          "data": {
            "text/plain": [
              "<Figure size 864x432 with 2 Axes>"
            ],
            "image/png": "[encoded data removed]"
          },
          "metadata": {
            "needs_background": "light"
          }
        }
      ]
    },
    {
      "cell_type": "code",
      "source": [
        "plt.figure(figsize=(12, 6))\n",
        "plt.subplot(1,2,1)\n",
        "sns.barplot(data = days, x = 'weathersit', y='cnt')\n",
        "plt.subplot(1,2,2)\n",
        "sns.barplot(data = days, x = 'weathersit', y='cnt', hue = 'yr')\n",
        "plt.show()"
      ],
      "metadata": {
        "colab": {
          "base_uri": "https://localhost:8080/",
          "height": 388
        },
        "id": "tmIJD0kGLG-F",
        "outputId": "71ea4b91-3cf9-451b-edad-45c5ab6e5c4e"
      },
      "execution_count": null,
      "outputs": [
        {
          "output_type": "display_data",
          "data": {
            "text/plain": [
              "<Figure size 864x432 with 2 Axes>"
            ],
            "image/png": "[encoded data removed]"
          },
          "metadata": {
            "needs_background": "light"
          }
        }
      ]
    },
    {
      "cell_type": "markdown",
      "source": [
        "## Step 4: Data Preparation for Linear Regression"
      ],
      "metadata": {
        "id": "dPfSFwmpmskr"
      }
    },
    {
      "cell_type": "code",
      "source": [
        "# converting year label into number where 2019 = 1 and 2018 = 0;\n",
        "days.yr = days.yr.map({'2019':1,'2018':0})"
      ],
      "metadata": {
        "id": "xDdCiOy-o90T"
      },
      "execution_count": null,
      "outputs": []
    },
    {
      "cell_type": "code",
      "source": [
        "days_new = pd.get_dummies(data=days,columns=[\"season\",\"mnth\",\"weekday\",\"weathersit\"],drop_first=True)"
      ],
      "metadata": {
        "id": "38C9ykR1mzZc"
      },
      "execution_count": null,
      "outputs": []
    },
    {
      "cell_type": "code",
      "source": [
        "days_new.info()"
      ],
      "metadata": {
        "colab": {
          "base_uri": "https://localhost:8080/"
        },
        "id": "3mLWkOHwnRMA",
        "outputId": "6c0d0cc0-225d-40f4-d7e1-f28079b9b6a6"
      },
      "execution_count": null,
      "outputs": [
        {
          "output_type": "stream",
          "name": "stdout",
          "text": [
            "<class 'pandas.core.frame.DataFrame'>\n",
            "RangeIndex: 730 entries, 0 to 729\n",
            "Data columns (total 30 columns):\n",
            " #   Column                 Non-Null Count  Dtype  \n",
            "---  ------                 --------------  -----  \n",
            " 0   yr                     730 non-null    int64  \n",
            " 1   holiday                730 non-null    int64  \n",
            " 2   workingday             730 non-null    int64  \n",
            " 3   temp                   730 non-null    float64\n",
            " 4   atemp                  730 non-null    float64\n",
            " 5   hum                    730 non-null    float64\n",
            " 6   windspeed              730 non-null    float64\n",
            " 7   cnt                    730 non-null    int64  \n",
            " 8   season_spring          730 non-null    uint8  \n",
            " 9   season_summer          730 non-null    uint8  \n",
            " 10  season_winter          730 non-null    uint8  \n",
            " 11  mnth_aug               730 non-null    uint8  \n",
            " 12  mnth_dec               730 non-null    uint8  \n",
            " 13  mnth_feb               730 non-null    uint8  \n",
            " 14  mnth_jan               730 non-null    uint8  \n",
            " 15  mnth_july              730 non-null    uint8  \n",
            " 16  mnth_june              730 non-null    uint8  \n",
            " 17  mnth_mar               730 non-null    uint8  \n",
            " 18  mnth_may               730 non-null    uint8  \n",
            " 19  mnth_nov               730 non-null    uint8  \n",
            " 20  mnth_oct               730 non-null    uint8  \n",
            " 21  mnth_sep               730 non-null    uint8  \n",
            " 22  weekday_mon            730 non-null    uint8  \n",
            " 23  weekday_sat            730 non-null    uint8  \n",
            " 24  weekday_sun            730 non-null    uint8  \n",
            " 25  weekday_thu            730 non-null    uint8  \n",
            " 26  weekday_tue            730 non-null    uint8  \n",
            " 27  weekday_wed            730 non-null    uint8  \n",
            " 28  weathersit_LightxSnow  730 non-null    uint8  \n",
            " 29  weathersit_Mist        730 non-null    uint8  \n",
            "dtypes: float64(4), int64(4), uint8(22)\n",
            "memory usage: 61.4 KB\n"
          ]
        }
      ]
    },
    {
      "cell_type": "code",
      "source": [
        "days_new.head()"
      ],
      "metadata": {
        "colab": {
          "base_uri": "https://localhost:8080/",
          "height": 299
        },
        "id": "HzCGs1_RqJao",
        "outputId": "88eba134-db45-4535-dda7-f1c2ebdeee8f"
      },
      "execution_count": null,
      "outputs": [
        {
          "output_type": "execute_result",
          "data": {
            "text/plain": [
              "   yr  holiday  workingday       temp     atemp      hum  windspeed   cnt  \\\n",
              "0   0        0           1  14.110847  18.18125  80.5833  10.749882   985   \n",
              "1   0        0           1  14.902598  17.68695  69.6087  16.652113   801   \n",
              "2   0        0           1   8.050924   9.47025  43.7273  16.636703  1349   \n",
              "3   0        0           1   8.200000  10.60610  59.0435  10.739832  1562   \n",
              "4   0        0           1   9.305237  11.46350  43.6957  12.522300  1600   \n",
              "\n",
              "   season_spring  season_summer  ...  mnth_oct  mnth_sep  weekday_mon  \\\n",
              "0              1              0  ...         0         0            1   \n",
              "1              1              0  ...         0         0            0   \n",
              "2              1              0  ...         0         0            0   \n",
              "3              1              0  ...         0         0            0   \n",
              "4              1              0  ...         0         0            0   \n",
              "\n",
              "   weekday_sat  weekday_sun  weekday_thu  weekday_tue  weekday_wed  \\\n",
              "0            0            0            0            0            0   \n",
              "1            0            0            0            1            0   \n",
              "2            0            0            0            0            1   \n",
              "3            0            0            1            0            0   \n",
              "4            0            0            0            0            0   \n",
              "\n",
              "   weathersit_LightxSnow  weathersit_Mist  \n",
              "0                      0                1  \n",
              "1                      0                1  \n",
              "2                      0                0  \n",
              "3                      0                0  \n",
              "4                      0                0  \n",
              "\n",
              "[5 rows x 30 columns]"
            ],
            "text/html": [
              "\n",
              "  <div id=\"df-6d60d0af-37d2-4fa5-be80-f444db189d87\">\n",
              "    <div class=\"colab-df-container\">\n",
              "      <div>\n",
              "<style scoped>\n",
              "    .dataframe tbody tr th:only-of-type {\n",
              "        vertical-align: middle;\n",
              "    }\n",
              "\n",
              "    .dataframe tbody tr th {\n",
              "        vertical-align: top;\n",
              "    }\n",
              "\n",
              "    .dataframe thead th {\n",
              "        text-align: right;\n",
              "    }\n",
              "</style>\n",
              "<table border=\"1\" class=\"dataframe\">\n",
              "  <thead>\n",
              "    <tr style=\"text-align: right;\">\n",
              "      <th></th>\n",
              "      <th>yr</th>\n",
              "      <th>holiday</th>\n",
              "      <th>workingday</th>\n",
              "      <th>temp</th>\n",
              "      <th>atemp</th>\n",
              "      <th>hum</th>\n",
              "      <th>windspeed</th>\n",
              "      <th>cnt</th>\n",
              "      <th>season_spring</th>\n",
              "      <th>season_summer</th>\n",
              "      <th>...</th>\n",
              "      <th>mnth_oct</th>\n",
              "      <th>mnth_sep</th>\n",
              "      <th>weekday_mon</th>\n",
              "      <th>weekday_sat</th>\n",
              "      <th>weekday_sun</th>\n",
              "      <th>weekday_thu</th>\n",
              "      <th>weekday_tue</th>\n",
              "      <th>weekday_wed</th>\n",
              "      <th>weathersit_LightxSnow</th>\n",
              "      <th>weathersit_Mist</th>\n",
              "    </tr>\n",
              "  </thead>\n",
              "  <tbody>\n",
              "    <tr>\n",
              "      <th>0</th>\n",
              "      <td>0</td>\n",
              "      <td>0</td>\n",
              "      <td>1</td>\n",
              "      <td>14.110847</td>\n",
              "      <td>18.18125</td>\n",
              "      <td>80.5833</td>\n",
              "      <td>10.749882</td>\n",
              "      <td>985</td>\n",
              "      <td>1</td>\n",
              "      <td>0</td>\n",
              "      <td>...</td>\n",
              "      <td>0</td>\n",
              "      <td>0</td>\n",
              "      <td>1</td>\n",
              "      <td>0</td>\n",
              "      <td>0</td>\n",
              "      <td>0</td>\n",
              "      <td>0</td>\n",
              "      <td>0</td>\n",
              "      <td>0</td>\n",
              "      <td>1</td>\n",
              "    </tr>\n",
              "    <tr>\n",
              "      <th>1</th>\n",
              "      <td>0</td>\n",
              "      <td>0</td>\n",
              "      <td>1</td>\n",
              "      <td>14.902598</td>\n",
              "      <td>17.68695</td>\n",
              "      <td>69.6087</td>\n",
              "      <td>16.652113</td>\n",
              "      <td>801</td>\n",
              "      <td>1</td>\n",
              "      <td>0</td>\n",
              "      <td>...</td>\n",
              "      <td>0</td>\n",
              "      <td>0</td>\n",
              "      <td>0</td>\n",
              "      <td>0</td>\n",
              "      <td>0</td>\n",
              "      <td>0</td>\n",
              "      <td>1</td>\n",
              "      <td>0</td>\n",
              "      <td>0</td>\n",
              "      <td>1</td>\n",
              "    </tr>\n",
              "    <tr>\n",
              "      <th>2</th>\n",
              "      <td>0</td>\n",
              "      <td>0</td>\n",
              "      <td>1</td>\n",
              "      <td>8.050924</td>\n",
              "      <td>9.47025</td>\n",
              "      <td>43.7273</td>\n",
              "      <td>16.636703</td>\n",
              "      <td>1349</td>\n",
              "      <td>1</td>\n",
              "      <td>0</td>\n",
              "      <td>...</td>\n",
              "      <td>0</td>\n",
              "      <td>0</td>\n",
              "      <td>0</td>\n",
              "      <td>0</td>\n",
              "      <td>0</td>\n",
              "      <td>0</td>\n",
              "      <td>0</td>\n",
              "      <td>1</td>\n",
              "      <td>0</td>\n",
              "      <td>0</td>\n",
              "    </tr>\n",
              "    <tr>\n",
              "      <th>3</th>\n",
              "      <td>0</td>\n",
              "      <td>0</td>\n",
              "      <td>1</td>\n",
              "      <td>8.200000</td>\n",
              "      <td>10.60610</td>\n",
              "      <td>59.0435</td>\n",
              "      <td>10.739832</td>\n",
              "      <td>1562</td>\n",
              "      <td>1</td>\n",
              "      <td>0</td>\n",
              "      <td>...</td>\n",
              "      <td>0</td>\n",
              "      <td>0</td>\n",
              "      <td>0</td>\n",
              "      <td>0</td>\n",
              "      <td>0</td>\n",
              "      <td>1</td>\n",
              "      <td>0</td>\n",
              "      <td>0</td>\n",
              "      <td>0</td>\n",
              "      <td>0</td>\n",
              "    </tr>\n",
              "    <tr>\n",
              "      <th>4</th>\n",
              "      <td>0</td>\n",
              "      <td>0</td>\n",
              "      <td>1</td>\n",
              "      <td>9.305237</td>\n",
              "      <td>11.46350</td>\n",
              "      <td>43.6957</td>\n",
              "      <td>12.522300</td>\n",
              "      <td>1600</td>\n",
              "      <td>1</td>\n",
              "      <td>0</td>\n",
              "      <td>...</td>\n",
              "      <td>0</td>\n",
              "      <td>0</td>\n",
              "      <td>0</td>\n",
              "      <td>0</td>\n",
              "      <td>0</td>\n",
              "      <td>0</td>\n",
              "      <td>0</td>\n",
              "      <td>0</td>\n",
              "      <td>0</td>\n",
              "      <td>0</td>\n",
              "    </tr>\n",
              "  </tbody>\n",
              "</table>\n",
              "<p>5 rows × 30 columns</p>\n",
              "</div>\n",
              "      <button class=\"colab-df-convert\" onclick=\"convertToInteractive('df-6d60d0af-37d2-4fa5-be80-f444db189d87')\"\n",
              "              title=\"Convert this dataframe to an interactive table.\"\n",
              "              style=\"display:none;\">\n",
              "        \n",
              "  <svg xmlns=\"http://www.w3.org/2000/svg\" height=\"24px\"viewBox=\"0 0 24 24\"\n",
              "       width=\"24px\">\n",
              "    <path d=\"M0 0h24v24H0V0z\" fill=\"none\"/>\n",
              "    <path d=\"M18.56 5.44l.94 2.06.94-2.06 2.06-.94-2.06-.94-.94-2.06-.94 2.06-2.06.94zm-11 1L8.5 8.5l.94-2.06 2.06-.94-2.06-.94L8.5 2.5l-.94 2.06-2.06.94zm10 10l.94 2.06.94-2.06 2.06-.94-2.06-.94-.94-2.06-.94 2.06-2.06.94z\"/><path d=\"M17.41 7.96l-1.37-1.37c-.4-.4-.92-.59-1.43-.59-.52 0-1.04.2-1.43.59L10.3 9.45l-7.72 7.72c-.78.78-.78 2.05 0 2.83L4 21.41c.39.39.9.59 1.41.59.51 0 1.02-.2 1.41-.59l7.78-7.78 2.81-2.81c.8-.78.8-2.07 0-2.86zM5.41 20L4 18.59l7.72-7.72 1.47 1.35L5.41 20z\"/>\n",
              "  </svg>\n",
              "      </button>\n",
              "      \n",
              "  <style>\n",
              "    .colab-df-container {\n",
              "      display:flex;\n",
              "      flex-wrap:wrap;\n",
              "      gap: 12px;\n",
              "    }\n",
              "\n",
              "    .colab-df-convert {\n",
              "      background-color: #E8F0FE;\n",
              "      border: none;\n",
              "      border-radius: 50%;\n",
              "      cursor: pointer;\n",
              "      display: none;\n",
              "      fill: #1967D2;\n",
              "      height: 32px;\n",
              "      padding: 0 0 0 0;\n",
              "      width: 32px;\n",
              "    }\n",
              "\n",
              "    .colab-df-convert:hover {\n",
              "      background-color: #E2EBFA;\n",
              "      box-shadow: 0px 1px 2px rgba(60, 64, 67, 0.3), 0px 1px 3px 1px rgba(60, 64, 67, 0.15);\n",
              "      fill: #174EA6;\n",
              "    }\n",
              "\n",
              "    [theme=dark] .colab-df-convert {\n",
              "      background-color: #3B4455;\n",
              "      fill: #D2E3FC;\n",
              "    }\n",
              "\n",
              "    [theme=dark] .colab-df-convert:hover {\n",
              "      background-color: #434B5C;\n",
              "      box-shadow: 0px 1px 3px 1px rgba(0, 0, 0, 0.15);\n",
              "      filter: drop-shadow(0px 1px 2px rgba(0, 0, 0, 0.3));\n",
              "      fill: #FFFFFF;\n",
              "    }\n",
              "  </style>\n",
              "\n",
              "      <script>\n",
              "        const buttonEl =\n",
              "          document.querySelector('#df-6d60d0af-37d2-4fa5-be80-f444db189d87 button.colab-df-convert');\n",
              "        buttonEl.style.display =\n",
              "          google.colab.kernel.accessAllowed ? 'block' : 'none';\n",
              "\n",
              "        async function convertToInteractive(key) {\n",
              "          const element = document.querySelector('#df-6d60d0af-37d2-4fa5-be80-f444db189d87');\n",
              "          const dataTable =\n",
              "            await google.colab.kernel.invokeFunction('convertToInteractive',\n",
              "                                                     [key], {});\n",
              "          if (!dataTable) return;\n",
              "\n",
              "          const docLinkHtml = 'Like what you see? Visit the ' +\n",
              "            '<a target=\"_blank\" href=https://colab.research.google.com/notebooks/data_table.ipynb>data table notebook</a>'\n",
              "            + ' to learn more about interactive tables.';\n",
              "          element.innerHTML = '';\n",
              "          dataTable['output_type'] = 'display_data';\n",
              "          await google.colab.output.renderOutput(dataTable, element);\n",
              "          const docLink = document.createElement('div');\n",
              "          docLink.innerHTML = docLinkHtml;\n",
              "          element.appendChild(docLink);\n",
              "        }\n",
              "      </script>\n",
              "    </div>\n",
              "  </div>\n",
              "  "
            ]
          },
          "metadata": {},
          "execution_count": 116
        }
      ]
    },
    {
      "cell_type": "markdown",
      "source": [
        "## Step 5: Splitting the Data into Training and Testing Sets"
      ],
      "metadata": {
        "id": "EvIJLeiKYSDy"
      }
    },
    {
      "cell_type": "code",
      "source": [
        "from sklearn.model_selection import train_test_split\n",
        "\n",
        "# We specify this so that the train and test data set always have the same rows, respectively\n",
        "np.random.seed(0)\n",
        "\n",
        "days_train, days_test = train_test_split(days_new, train_size = 0.7, random_state = 100)"
      ],
      "metadata": {
        "id": "_hwY4y7hYR7d"
      },
      "execution_count": null,
      "outputs": []
    },
    {
      "cell_type": "code",
      "source": [
        "print(days_new.shape)\n",
        "print(days_train.shape)\n",
        "print(days_test.shape)"
      ],
      "metadata": {
        "colab": {
          "base_uri": "https://localhost:8080/"
        },
        "id": "RQaKP7grZj2C",
        "outputId": "5678c316-d0fb-4895-cbe1-0c8098d9448b"
      },
      "execution_count": null,
      "outputs": [
        {
          "output_type": "stream",
          "name": "stdout",
          "text": [
            "(730, 30)\n",
            "(510, 30)\n",
            "(220, 30)\n"
          ]
        }
      ]
    },
    {
      "cell_type": "markdown",
      "source": [
        "### Rescaling the Features"
      ],
      "metadata": {
        "id": "_E4SyqBbbxkR"
      }
    },
    {
      "cell_type": "code",
      "source": [
        "from sklearn.preprocessing import MinMaxScaler"
      ],
      "metadata": {
        "id": "wjXoBaFQeLYT"
      },
      "execution_count": null,
      "outputs": []
    },
    {
      "cell_type": "code",
      "source": [
        "numvars = ['temp','atemp','hum','windspeed','cnt']\n",
        "scaler = MinMaxScaler()\n",
        "days_train[numvars] = scaler.fit_transform(days_train[numvars])"
      ],
      "metadata": {
        "id": "O42s3MI_ZmVl"
      },
      "execution_count": null,
      "outputs": []
    },
    {
      "cell_type": "code",
      "source": [
        "days_train.head()"
      ],
      "metadata": {
        "colab": {
          "base_uri": "https://localhost:8080/",
          "height": 299
        },
        "id": "FN9Tro0veOmb",
        "outputId": "a8f8d590-0426-4cc4-d2e6-44244c3063ee"
      },
      "execution_count": null,
      "outputs": [
        {
          "output_type": "execute_result",
          "data": {
            "text/plain": [
              "     yr  holiday  workingday      temp     atemp       hum  windspeed  \\\n",
              "576   1        0           1  0.815169  0.766351  0.725633   0.264686   \n",
              "426   1        0           0  0.442393  0.438975  0.640189   0.255342   \n",
              "728   1        0           1  0.245101  0.200348  0.498067   0.663106   \n",
              "482   1        0           0  0.395666  0.391735  0.504508   0.188475   \n",
              "111   0        0           0  0.345824  0.318819  0.751824   0.380981   \n",
              "\n",
              "          cnt  season_spring  season_summer  ...  mnth_oct  mnth_sep  \\\n",
              "576  0.827658              0              0  ...         0         0   \n",
              "426  0.465255              1              0  ...         0         0   \n",
              "728  0.204096              1              0  ...         0         0   \n",
              "482  0.482973              0              1  ...         0         0   \n",
              "111  0.191095              0              1  ...         0         0   \n",
              "\n",
              "     weekday_mon  weekday_sat  weekday_sun  weekday_thu  weekday_tue  \\\n",
              "576            0            0            0            0            0   \n",
              "426            0            0            1            0            0   \n",
              "728            1            0            0            0            0   \n",
              "482            0            0            1            0            0   \n",
              "111            0            0            1            0            0   \n",
              "\n",
              "     weekday_wed  weathersit_LightxSnow  weathersit_Mist  \n",
              "576            1                      0                0  \n",
              "426            0                      0                1  \n",
              "728            0                      0                0  \n",
              "482            0                      0                1  \n",
              "111            0                      0                1  \n",
              "\n",
              "[5 rows x 30 columns]"
            ],
            "text/html": [
              "\n",
              "  <div id=\"df-bb0480a7-09e6-47ee-93de-1e2d68faa6b6\">\n",
              "    <div class=\"colab-df-container\">\n",
              "      <div>\n",
              "<style scoped>\n",
              "    .dataframe tbody tr th:only-of-type {\n",
              "        vertical-align: middle;\n",
              "    }\n",
              "\n",
              "    .dataframe tbody tr th {\n",
              "        vertical-align: top;\n",
              "    }\n",
              "\n",
              "    .dataframe thead th {\n",
              "        text-align: right;\n",
              "    }\n",
              "</style>\n",
              "<table border=\"1\" class=\"dataframe\">\n",
              "  <thead>\n",
              "    <tr style=\"text-align: right;\">\n",
              "      <th></th>\n",
              "      <th>yr</th>\n",
              "      <th>holiday</th>\n",
              "      <th>workingday</th>\n",
              "      <th>temp</th>\n",
              "      <th>atemp</th>\n",
              "      <th>hum</th>\n",
              "      <th>windspeed</th>\n",
              "      <th>cnt</th>\n",
              "      <th>season_spring</th>\n",
              "      <th>season_summer</th>\n",
              "      <th>...</th>\n",
              "      <th>mnth_oct</th>\n",
              "      <th>mnth_sep</th>\n",
              "      <th>weekday_mon</th>\n",
              "      <th>weekday_sat</th>\n",
              "      <th>weekday_sun</th>\n",
              "      <th>weekday_thu</th>\n",
              "      <th>weekday_tue</th>\n",
              "      <th>weekday_wed</th>\n",
              "      <th>weathersit_LightxSnow</th>\n",
              "      <th>weathersit_Mist</th>\n",
              "    </tr>\n",
              "  </thead>\n",
              "  <tbody>\n",
              "    <tr>\n",
              "      <th>576</th>\n",
              "      <td>1</td>\n",
              "      <td>0</td>\n",
              "      <td>1</td>\n",
              "      <td>0.815169</td>\n",
              "      <td>0.766351</td>\n",
              "      <td>0.725633</td>\n",
              "      <td>0.264686</td>\n",
              "      <td>0.827658</td>\n",
              "      <td>0</td>\n",
              "      <td>0</td>\n",
              "      <td>...</td>\n",
              "      <td>0</td>\n",
              "      <td>0</td>\n",
              "      <td>0</td>\n",
              "      <td>0</td>\n",
              "      <td>0</td>\n",
              "      <td>0</td>\n",
              "      <td>0</td>\n",
              "      <td>1</td>\n",
              "      <td>0</td>\n",
              "      <td>0</td>\n",
              "    </tr>\n",
              "    <tr>\n",
              "      <th>426</th>\n",
              "      <td>1</td>\n",
              "      <td>0</td>\n",
              "      <td>0</td>\n",
              "      <td>0.442393</td>\n",
              "      <td>0.438975</td>\n",
              "      <td>0.640189</td>\n",
              "      <td>0.255342</td>\n",
              "      <td>0.465255</td>\n",
              "      <td>1</td>\n",
              "      <td>0</td>\n",
              "      <td>...</td>\n",
              "      <td>0</td>\n",
              "      <td>0</td>\n",
              "      <td>0</td>\n",
              "      <td>0</td>\n",
              "      <td>1</td>\n",
              "      <td>0</td>\n",
              "      <td>0</td>\n",
              "      <td>0</td>\n",
              "      <td>0</td>\n",
              "      <td>1</td>\n",
              "    </tr>\n",
              "    <tr>\n",
              "      <th>728</th>\n",
              "      <td>1</td>\n",
              "      <td>0</td>\n",
              "      <td>1</td>\n",
              "      <td>0.245101</td>\n",
              "      <td>0.200348</td>\n",
              "      <td>0.498067</td>\n",
              "      <td>0.663106</td>\n",
              "      <td>0.204096</td>\n",
              "      <td>1</td>\n",
              "      <td>0</td>\n",
              "      <td>...</td>\n",
              "      <td>0</td>\n",
              "      <td>0</td>\n",
              "      <td>1</td>\n",
              "      <td>0</td>\n",
              "      <td>0</td>\n",
              "      <td>0</td>\n",
              "      <td>0</td>\n",
              "      <td>0</td>\n",
              "      <td>0</td>\n",
              "      <td>0</td>\n",
              "    </tr>\n",
              "    <tr>\n",
              "      <th>482</th>\n",
              "      <td>1</td>\n",
              "      <td>0</td>\n",
              "      <td>0</td>\n",
              "      <td>0.395666</td>\n",
              "      <td>0.391735</td>\n",
              "      <td>0.504508</td>\n",
              "      <td>0.188475</td>\n",
              "      <td>0.482973</td>\n",
              "      <td>0</td>\n",
              "      <td>1</td>\n",
              "      <td>...</td>\n",
              "      <td>0</td>\n",
              "      <td>0</td>\n",
              "      <td>0</td>\n",
              "      <td>0</td>\n",
              "      <td>1</td>\n",
              "      <td>0</td>\n",
              "      <td>0</td>\n",
              "      <td>0</td>\n",
              "      <td>0</td>\n",
              "      <td>1</td>\n",
              "    </tr>\n",
              "    <tr>\n",
              "      <th>111</th>\n",
              "      <td>0</td>\n",
              "      <td>0</td>\n",
              "      <td>0</td>\n",
              "      <td>0.345824</td>\n",
              "      <td>0.318819</td>\n",
              "      <td>0.751824</td>\n",
              "      <td>0.380981</td>\n",
              "      <td>0.191095</td>\n",
              "      <td>0</td>\n",
              "      <td>1</td>\n",
              "      <td>...</td>\n",
              "      <td>0</td>\n",
              "      <td>0</td>\n",
              "      <td>0</td>\n",
              "      <td>0</td>\n",
              "      <td>1</td>\n",
              "      <td>0</td>\n",
              "      <td>0</td>\n",
              "      <td>0</td>\n",
              "      <td>0</td>\n",
              "      <td>1</td>\n",
              "    </tr>\n",
              "  </tbody>\n",
              "</table>\n",
              "<p>5 rows × 30 columns</p>\n",
              "</div>\n",
              "      <button class=\"colab-df-convert\" onclick=\"convertToInteractive('df-bb0480a7-09e6-47ee-93de-1e2d68faa6b6')\"\n",
              "              title=\"Convert this dataframe to an interactive table.\"\n",
              "              style=\"display:none;\">\n",
              "        \n",
              "  <svg xmlns=\"http://www.w3.org/2000/svg\" height=\"24px\"viewBox=\"0 0 24 24\"\n",
              "       width=\"24px\">\n",
              "    <path d=\"M0 0h24v24H0V0z\" fill=\"none\"/>\n",
              "    <path d=\"M18.56 5.44l.94 2.06.94-2.06 2.06-.94-2.06-.94-.94-2.06-.94 2.06-2.06.94zm-11 1L8.5 8.5l.94-2.06 2.06-.94-2.06-.94L8.5 2.5l-.94 2.06-2.06.94zm10 10l.94 2.06.94-2.06 2.06-.94-2.06-.94-.94-2.06-.94 2.06-2.06.94z\"/><path d=\"M17.41 7.96l-1.37-1.37c-.4-.4-.92-.59-1.43-.59-.52 0-1.04.2-1.43.59L10.3 9.45l-7.72 7.72c-.78.78-.78 2.05 0 2.83L4 21.41c.39.39.9.59 1.41.59.51 0 1.02-.2 1.41-.59l7.78-7.78 2.81-2.81c.8-.78.8-2.07 0-2.86zM5.41 20L4 18.59l7.72-7.72 1.47 1.35L5.41 20z\"/>\n",
              "  </svg>\n",
              "      </button>\n",
              "      \n",
              "  <style>\n",
              "    .colab-df-container {\n",
              "      display:flex;\n",
              "      flex-wrap:wrap;\n",
              "      gap: 12px;\n",
              "    }\n",
              "\n",
              "    .colab-df-convert {\n",
              "      background-color: #E8F0FE;\n",
              "      border: none;\n",
              "      border-radius: 50%;\n",
              "      cursor: pointer;\n",
              "      display: none;\n",
              "      fill: #1967D2;\n",
              "      height: 32px;\n",
              "      padding: 0 0 0 0;\n",
              "      width: 32px;\n",
              "    }\n",
              "\n",
              "    .colab-df-convert:hover {\n",
              "      background-color: #E2EBFA;\n",
              "      box-shadow: 0px 1px 2px rgba(60, 64, 67, 0.3), 0px 1px 3px 1px rgba(60, 64, 67, 0.15);\n",
              "      fill: #174EA6;\n",
              "    }\n",
              "\n",
              "    [theme=dark] .colab-df-convert {\n",
              "      background-color: #3B4455;\n",
              "      fill: #D2E3FC;\n",
              "    }\n",
              "\n",
              "    [theme=dark] .colab-df-convert:hover {\n",
              "      background-color: #434B5C;\n",
              "      box-shadow: 0px 1px 3px 1px rgba(0, 0, 0, 0.15);\n",
              "      filter: drop-shadow(0px 1px 2px rgba(0, 0, 0, 0.3));\n",
              "      fill: #FFFFFF;\n",
              "    }\n",
              "  </style>\n",
              "\n",
              "      <script>\n",
              "        const buttonEl =\n",
              "          document.querySelector('#df-bb0480a7-09e6-47ee-93de-1e2d68faa6b6 button.colab-df-convert');\n",
              "        buttonEl.style.display =\n",
              "          google.colab.kernel.accessAllowed ? 'block' : 'none';\n",
              "\n",
              "        async function convertToInteractive(key) {\n",
              "          const element = document.querySelector('#df-bb0480a7-09e6-47ee-93de-1e2d68faa6b6');\n",
              "          const dataTable =\n",
              "            await google.colab.kernel.invokeFunction('convertToInteractive',\n",
              "                                                     [key], {});\n",
              "          if (!dataTable) return;\n",
              "\n",
              "          const docLinkHtml = 'Like what you see? Visit the ' +\n",
              "            '<a target=\"_blank\" href=https://colab.research.google.com/notebooks/data_table.ipynb>data table notebook</a>'\n",
              "            + ' to learn more about interactive tables.';\n",
              "          element.innerHTML = '';\n",
              "          dataTable['output_type'] = 'display_data';\n",
              "          await google.colab.output.renderOutput(dataTable, element);\n",
              "          const docLink = document.createElement('div');\n",
              "          docLink.innerHTML = docLinkHtml;\n",
              "          element.appendChild(docLink);\n",
              "        }\n",
              "      </script>\n",
              "    </div>\n",
              "  </div>\n",
              "  "
            ]
          },
          "metadata": {},
          "execution_count": 121
        }
      ]
    },
    {
      "cell_type": "markdown",
      "source": [
        "## Step 6 : Model Building\n",
        "Recursive feature elimination: We will be using the LinearRegression function from SciKit Learn for its compatibility with RFE (which is a utility from sklearn)"
      ],
      "metadata": {
        "id": "gY2TyY7mfoD7"
      }
    },
    {
      "cell_type": "code",
      "source": [
        "y_train = days_train.pop('cnt')\n",
        "X_train = days_train"
      ],
      "metadata": {
        "id": "vQD_2iQLTZsV"
      },
      "execution_count": null,
      "outputs": []
    },
    {
      "cell_type": "code",
      "source": [
        "X_train.head()"
      ],
      "metadata": {
        "colab": {
          "base_uri": "https://localhost:8080/",
          "height": 299
        },
        "id": "9hFsXSs4qSFC",
        "outputId": "52880f4e-d182-4c39-bf3a-d8962e804c6d"
      },
      "execution_count": null,
      "outputs": [
        {
          "output_type": "execute_result",
          "data": {
            "text/plain": [
              "     yr  holiday  workingday      temp     atemp       hum  windspeed  \\\n",
              "576   1        0           1  0.815169  0.766351  0.725633   0.264686   \n",
              "426   1        0           0  0.442393  0.438975  0.640189   0.255342   \n",
              "728   1        0           1  0.245101  0.200348  0.498067   0.663106   \n",
              "482   1        0           0  0.395666  0.391735  0.504508   0.188475   \n",
              "111   0        0           0  0.345824  0.318819  0.751824   0.380981   \n",
              "\n",
              "     season_spring  season_summer  season_winter  ...  mnth_oct  mnth_sep  \\\n",
              "576              0              0              0  ...         0         0   \n",
              "426              1              0              0  ...         0         0   \n",
              "728              1              0              0  ...         0         0   \n",
              "482              0              1              0  ...         0         0   \n",
              "111              0              1              0  ...         0         0   \n",
              "\n",
              "     weekday_mon  weekday_sat  weekday_sun  weekday_thu  weekday_tue  \\\n",
              "576            0            0            0            0            0   \n",
              "426            0            0            1            0            0   \n",
              "728            1            0            0            0            0   \n",
              "482            0            0            1            0            0   \n",
              "111            0            0            1            0            0   \n",
              "\n",
              "     weekday_wed  weathersit_LightxSnow  weathersit_Mist  \n",
              "576            1                      0                0  \n",
              "426            0                      0                1  \n",
              "728            0                      0                0  \n",
              "482            0                      0                1  \n",
              "111            0                      0                1  \n",
              "\n",
              "[5 rows x 29 columns]"
            ],
            "text/html": [
              "\n",
              "  <div id=\"df-60172fef-f062-44ca-ae17-f0ee0315471a\">\n",
              "    <div class=\"colab-df-container\">\n",
              "      <div>\n",
              "<style scoped>\n",
              "    .dataframe tbody tr th:only-of-type {\n",
              "        vertical-align: middle;\n",
              "    }\n",
              "\n",
              "    .dataframe tbody tr th {\n",
              "        vertical-align: top;\n",
              "    }\n",
              "\n",
              "    .dataframe thead th {\n",
              "        text-align: right;\n",
              "    }\n",
              "</style>\n",
              "<table border=\"1\" class=\"dataframe\">\n",
              "  <thead>\n",
              "    <tr style=\"text-align: right;\">\n",
              "      <th></th>\n",
              "      <th>yr</th>\n",
              "      <th>holiday</th>\n",
              "      <th>workingday</th>\n",
              "      <th>temp</th>\n",
              "      <th>atemp</th>\n",
              "      <th>hum</th>\n",
              "      <th>windspeed</th>\n",
              "      <th>season_spring</th>\n",
              "      <th>season_summer</th>\n",
              "      <th>season_winter</th>\n",
              "      <th>...</th>\n",
              "      <th>mnth_oct</th>\n",
              "      <th>mnth_sep</th>\n",
              "      <th>weekday_mon</th>\n",
              "      <th>weekday_sat</th>\n",
              "      <th>weekday_sun</th>\n",
              "      <th>weekday_thu</th>\n",
              "      <th>weekday_tue</th>\n",
              "      <th>weekday_wed</th>\n",
              "      <th>weathersit_LightxSnow</th>\n",
              "      <th>weathersit_Mist</th>\n",
              "    </tr>\n",
              "  </thead>\n",
              "  <tbody>\n",
              "    <tr>\n",
              "      <th>576</th>\n",
              "      <td>1</td>\n",
              "      <td>0</td>\n",
              "      <td>1</td>\n",
              "      <td>0.815169</td>\n",
              "      <td>0.766351</td>\n",
              "      <td>0.725633</td>\n",
              "      <td>0.264686</td>\n",
              "      <td>0</td>\n",
              "      <td>0</td>\n",
              "      <td>0</td>\n",
              "      <td>...</td>\n",
              "      <td>0</td>\n",
              "      <td>0</td>\n",
              "      <td>0</td>\n",
              "      <td>0</td>\n",
              "      <td>0</td>\n",
              "      <td>0</td>\n",
              "      <td>0</td>\n",
              "      <td>1</td>\n",
              "      <td>0</td>\n",
              "      <td>0</td>\n",
              "    </tr>\n",
              "    <tr>\n",
              "      <th>426</th>\n",
              "      <td>1</td>\n",
              "      <td>0</td>\n",
              "      <td>0</td>\n",
              "      <td>0.442393</td>\n",
              "      <td>0.438975</td>\n",
              "      <td>0.640189</td>\n",
              "      <td>0.255342</td>\n",
              "      <td>1</td>\n",
              "      <td>0</td>\n",
              "      <td>0</td>\n",
              "      <td>...</td>\n",
              "      <td>0</td>\n",
              "      <td>0</td>\n",
              "      <td>0</td>\n",
              "      <td>0</td>\n",
              "      <td>1</td>\n",
              "      <td>0</td>\n",
              "      <td>0</td>\n",
              "      <td>0</td>\n",
              "      <td>0</td>\n",
              "      <td>1</td>\n",
              "    </tr>\n",
              "    <tr>\n",
              "      <th>728</th>\n",
              "      <td>1</td>\n",
              "      <td>0</td>\n",
              "      <td>1</td>\n",
              "      <td>0.245101</td>\n",
              "      <td>0.200348</td>\n",
              "      <td>0.498067</td>\n",
              "      <td>0.663106</td>\n",
              "      <td>1</td>\n",
              "      <td>0</td>\n",
              "      <td>0</td>\n",
              "      <td>...</td>\n",
              "      <td>0</td>\n",
              "      <td>0</td>\n",
              "      <td>1</td>\n",
              "      <td>0</td>\n",
              "      <td>0</td>\n",
              "      <td>0</td>\n",
              "      <td>0</td>\n",
              "      <td>0</td>\n",
              "      <td>0</td>\n",
              "      <td>0</td>\n",
              "    </tr>\n",
              "    <tr>\n",
              "      <th>482</th>\n",
              "      <td>1</td>\n",
              "      <td>0</td>\n",
              "      <td>0</td>\n",
              "      <td>0.395666</td>\n",
              "      <td>0.391735</td>\n",
              "      <td>0.504508</td>\n",
              "      <td>0.188475</td>\n",
              "      <td>0</td>\n",
              "      <td>1</td>\n",
              "      <td>0</td>\n",
              "      <td>...</td>\n",
              "      <td>0</td>\n",
              "      <td>0</td>\n",
              "      <td>0</td>\n",
              "      <td>0</td>\n",
              "      <td>1</td>\n",
              "      <td>0</td>\n",
              "      <td>0</td>\n",
              "      <td>0</td>\n",
              "      <td>0</td>\n",
              "      <td>1</td>\n",
              "    </tr>\n",
              "    <tr>\n",
              "      <th>111</th>\n",
              "      <td>0</td>\n",
              "      <td>0</td>\n",
              "      <td>0</td>\n",
              "      <td>0.345824</td>\n",
              "      <td>0.318819</td>\n",
              "      <td>0.751824</td>\n",
              "      <td>0.380981</td>\n",
              "      <td>0</td>\n",
              "      <td>1</td>\n",
              "      <td>0</td>\n",
              "      <td>...</td>\n",
              "      <td>0</td>\n",
              "      <td>0</td>\n",
              "      <td>0</td>\n",
              "      <td>0</td>\n",
              "      <td>1</td>\n",
              "      <td>0</td>\n",
              "      <td>0</td>\n",
              "      <td>0</td>\n",
              "      <td>0</td>\n",
              "      <td>1</td>\n",
              "    </tr>\n",
              "  </tbody>\n",
              "</table>\n",
              "<p>5 rows × 29 columns</p>\n",
              "</div>\n",
              "      <button class=\"colab-df-convert\" onclick=\"convertToInteractive('df-60172fef-f062-44ca-ae17-f0ee0315471a')\"\n",
              "              title=\"Convert this dataframe to an interactive table.\"\n",
              "              style=\"display:none;\">\n",
              "        \n",
              "  <svg xmlns=\"http://www.w3.org/2000/svg\" height=\"24px\"viewBox=\"0 0 24 24\"\n",
              "       width=\"24px\">\n",
              "    <path d=\"M0 0h24v24H0V0z\" fill=\"none\"/>\n",
              "    <path d=\"M18.56 5.44l.94 2.06.94-2.06 2.06-.94-2.06-.94-.94-2.06-.94 2.06-2.06.94zm-11 1L8.5 8.5l.94-2.06 2.06-.94-2.06-.94L8.5 2.5l-.94 2.06-2.06.94zm10 10l.94 2.06.94-2.06 2.06-.94-2.06-.94-.94-2.06-.94 2.06-2.06.94z\"/><path d=\"M17.41 7.96l-1.37-1.37c-.4-.4-.92-.59-1.43-.59-.52 0-1.04.2-1.43.59L10.3 9.45l-7.72 7.72c-.78.78-.78 2.05 0 2.83L4 21.41c.39.39.9.59 1.41.59.51 0 1.02-.2 1.41-.59l7.78-7.78 2.81-2.81c.8-.78.8-2.07 0-2.86zM5.41 20L4 18.59l7.72-7.72 1.47 1.35L5.41 20z\"/>\n",
              "  </svg>\n",
              "      </button>\n",
              "      \n",
              "  <style>\n",
              "    .colab-df-container {\n",
              "      display:flex;\n",
              "      flex-wrap:wrap;\n",
              "      gap: 12px;\n",
              "    }\n",
              "\n",
              "    .colab-df-convert {\n",
              "      background-color: #E8F0FE;\n",
              "      border: none;\n",
              "      border-radius: 50%;\n",
              "      cursor: pointer;\n",
              "      display: none;\n",
              "      fill: #1967D2;\n",
              "      height: 32px;\n",
              "      padding: 0 0 0 0;\n",
              "      width: 32px;\n",
              "    }\n",
              "\n",
              "    .colab-df-convert:hover {\n",
              "      background-color: #E2EBFA;\n",
              "      box-shadow: 0px 1px 2px rgba(60, 64, 67, 0.3), 0px 1px 3px 1px rgba(60, 64, 67, 0.15);\n",
              "      fill: #174EA6;\n",
              "    }\n",
              "\n",
              "    [theme=dark] .colab-df-convert {\n",
              "      background-color: #3B4455;\n",
              "      fill: #D2E3FC;\n",
              "    }\n",
              "\n",
              "    [theme=dark] .colab-df-convert:hover {\n",
              "      background-color: #434B5C;\n",
              "      box-shadow: 0px 1px 3px 1px rgba(0, 0, 0, 0.15);\n",
              "      filter: drop-shadow(0px 1px 2px rgba(0, 0, 0, 0.3));\n",
              "      fill: #FFFFFF;\n",
              "    }\n",
              "  </style>\n",
              "\n",
              "      <script>\n",
              "        const buttonEl =\n",
              "          document.querySelector('#df-60172fef-f062-44ca-ae17-f0ee0315471a button.colab-df-convert');\n",
              "        buttonEl.style.display =\n",
              "          google.colab.kernel.accessAllowed ? 'block' : 'none';\n",
              "\n",
              "        async function convertToInteractive(key) {\n",
              "          const element = document.querySelector('#df-60172fef-f062-44ca-ae17-f0ee0315471a');\n",
              "          const dataTable =\n",
              "            await google.colab.kernel.invokeFunction('convertToInteractive',\n",
              "                                                     [key], {});\n",
              "          if (!dataTable) return;\n",
              "\n",
              "          const docLinkHtml = 'Like what you see? Visit the ' +\n",
              "            '<a target=\"_blank\" href=https://colab.research.google.com/notebooks/data_table.ipynb>data table notebook</a>'\n",
              "            + ' to learn more about interactive tables.';\n",
              "          element.innerHTML = '';\n",
              "          dataTable['output_type'] = 'display_data';\n",
              "          await google.colab.output.renderOutput(dataTable, element);\n",
              "          const docLink = document.createElement('div');\n",
              "          docLink.innerHTML = docLinkHtml;\n",
              "          element.appendChild(docLink);\n",
              "        }\n",
              "      </script>\n",
              "    </div>\n",
              "  </div>\n",
              "  "
            ]
          },
          "metadata": {},
          "execution_count": 123
        }
      ]
    },
    {
      "cell_type": "code",
      "source": [
        "X_train.columns\n"
      ],
      "metadata": {
        "colab": {
          "base_uri": "https://localhost:8080/"
        },
        "id": "xkNJOwOqrYbx",
        "outputId": "0fb4deb3-0cbc-46e1-9302-4d04fc34f6f8"
      },
      "execution_count": null,
      "outputs": [
        {
          "output_type": "execute_result",
          "data": {
            "text/plain": [
              "Index(['yr', 'holiday', 'workingday', 'temp', 'atemp', 'hum', 'windspeed',\n",
              "       'season_spring', 'season_summer', 'season_winter', 'mnth_aug',\n",
              "       'mnth_dec', 'mnth_feb', 'mnth_jan', 'mnth_july', 'mnth_june',\n",
              "       'mnth_mar', 'mnth_may', 'mnth_nov', 'mnth_oct', 'mnth_sep',\n",
              "       'weekday_mon', 'weekday_sat', 'weekday_sun', 'weekday_thu',\n",
              "       'weekday_tue', 'weekday_wed', 'weathersit_LightxSnow',\n",
              "       'weathersit_Mist'],\n",
              "      dtype='object')"
            ]
          },
          "metadata": {},
          "execution_count": 124
        }
      ]
    },
    {
      "cell_type": "code",
      "source": [
        "from sklearn.linear_model import LinearRegression\n",
        "from sklearn.feature_selection import RFE\n",
        "from sklearn.metrics import r2_score\n",
        "from statsmodels.stats.outliers_influence import variance_inflation_factor\n",
        "import statsmodels.api as sm"
      ],
      "metadata": {
        "id": "UlIlLjLnf-Pe"
      },
      "execution_count": null,
      "outputs": []
    },
    {
      "cell_type": "code",
      "source": [
        "lm = LinearRegression()\n",
        "lm.fit(X_train, y_train)\n",
        "\n",
        "rfe = RFE(lm, step = 15)\n",
        "rfe = rfe.fit(X_train, y_train)"
      ],
      "metadata": {
        "id": "Jb1i_jEygOu2"
      },
      "execution_count": null,
      "outputs": []
    },
    {
      "cell_type": "code",
      "source": [
        "list(zip(X_train.columns,rfe.support_,rfe.ranking_))"
      ],
      "metadata": {
        "colab": {
          "base_uri": "https://localhost:8080/"
        },
        "id": "oBozgG5Jsd8i",
        "outputId": "8f0050d8-1fdf-4f03-cc22-fab46c3e329a"
      },
      "execution_count": null,
      "outputs": [
        {
          "output_type": "execute_result",
          "data": {
            "text/plain": [
              "[('yr', True, 1),\n",
              " ('holiday', True, 1),\n",
              " ('workingday', True, 1),\n",
              " ('temp', True, 1),\n",
              " ('atemp', True, 1),\n",
              " ('hum', True, 1),\n",
              " ('windspeed', True, 1),\n",
              " ('season_spring', False, 2),\n",
              " ('season_summer', False, 2),\n",
              " ('season_winter', True, 1),\n",
              " ('mnth_aug', False, 2),\n",
              " ('mnth_dec', False, 2),\n",
              " ('mnth_feb', False, 2),\n",
              " ('mnth_jan', True, 1),\n",
              " ('mnth_july', False, 2),\n",
              " ('mnth_june', False, 2),\n",
              " ('mnth_mar', False, 2),\n",
              " ('mnth_may', False, 2),\n",
              " ('mnth_nov', False, 2),\n",
              " ('mnth_oct', False, 2),\n",
              " ('mnth_sep', True, 1),\n",
              " ('weekday_mon', False, 2),\n",
              " ('weekday_sat', True, 1),\n",
              " ('weekday_sun', True, 1),\n",
              " ('weekday_thu', False, 2),\n",
              " ('weekday_tue', False, 2),\n",
              " ('weekday_wed', False, 2),\n",
              " ('weathersit_LightxSnow', True, 1),\n",
              " ('weathersit_Mist', True, 1)]"
            ]
          },
          "metadata": {},
          "execution_count": 127
        }
      ]
    },
    {
      "cell_type": "code",
      "source": [
        "colm = X_train.columns[rfe.support_]\n",
        "colm"
      ],
      "metadata": {
        "colab": {
          "base_uri": "https://localhost:8080/"
        },
        "id": "r9vVE7p3u_tH",
        "outputId": "94a4a78d-5bc5-41f6-c436-f5ff2c696bfd"
      },
      "execution_count": null,
      "outputs": [
        {
          "output_type": "execute_result",
          "data": {
            "text/plain": [
              "Index(['yr', 'holiday', 'workingday', 'temp', 'atemp', 'hum', 'windspeed',\n",
              "       'season_winter', 'mnth_jan', 'mnth_sep', 'weekday_sat', 'weekday_sun',\n",
              "       'weathersit_LightxSnow', 'weathersit_Mist'],\n",
              "      dtype='object')"
            ]
          },
          "metadata": {},
          "execution_count": 128
        }
      ]
    },
    {
      "cell_type": "markdown",
      "source": [
        "#### Building model using statsmodel, for the detailed statistics"
      ],
      "metadata": {
        "id": "iWEdrwFqydVy"
      }
    },
    {
      "cell_type": "code",
      "source": [
        "def calVIF(daframe):\n",
        "    vif = pd.DataFrame()\n",
        "    vif['Features'] = daframe.columns\n",
        "    vif['VIF'] = [variance_inflation_factor(daframe.values, i) for i in range(daframe.shape[1])]\n",
        "    vif['VIF'] = round(vif['VIF'],2)\n",
        "    print(vif.sort_values(by='VIF',ascending=False))"
      ],
      "metadata": {
        "id": "xSeZovEJuzbI"
      },
      "execution_count": null,
      "outputs": []
    },
    {
      "cell_type": "markdown",
      "source": [
        "#### Model 1"
      ],
      "metadata": {
        "id": "OfJ7l9HeFSd1"
      }
    },
    {
      "cell_type": "code",
      "source": [
        "X_train_rfe = X_train[colm]"
      ],
      "metadata": {
        "id": "NOmQPB0IvJ7g"
      },
      "execution_count": null,
      "outputs": []
    },
    {
      "cell_type": "code",
      "source": [
        "X_train_rfe.shape"
      ],
      "metadata": {
        "colab": {
          "base_uri": "https://localhost:8080/"
        },
        "id": "HGgw0FiuBzfi",
        "outputId": "b7f488ba-30fa-4a76-b22d-24408aaa7e61"
      },
      "execution_count": null,
      "outputs": [
        {
          "output_type": "execute_result",
          "data": {
            "text/plain": [
              "(510, 14)"
            ]
          },
          "metadata": {},
          "execution_count": 131
        }
      ]
    },
    {
      "cell_type": "code",
      "source": [
        "X_train_lm = sm.add_constant(X_train_rfe)\n",
        "lr1 = sm.OLS(y_train, X_train_lm).fit()\n",
        "lr1.params"
      ],
      "metadata": {
        "colab": {
          "base_uri": "https://localhost:8080/"
        },
        "id": "Par4V0Ij0TCC",
        "outputId": "6df6ec26-d5ce-4cfe-d3dd-dc878112c22e"
      },
      "execution_count": null,
      "outputs": [
        {
          "output_type": "execute_result",
          "data": {
            "text/plain": [
              "const                    0.300482\n",
              "yr                       0.230895\n",
              "holiday                 -0.136602\n",
              "workingday              -0.043152\n",
              "temp                     0.420145\n",
              "atemp                    0.122740\n",
              "hum                     -0.145811\n",
              "windspeed               -0.172815\n",
              "season_winter            0.094960\n",
              "mnth_jan                -0.076227\n",
              "mnth_sep                 0.078173\n",
              "weekday_sat             -0.027692\n",
              "weekday_sun             -0.025579\n",
              "weathersit_LightxSnow   -0.245679\n",
              "weathersit_Mist         -0.049929\n",
              "dtype: float64"
            ]
          },
          "metadata": {},
          "execution_count": 132
        }
      ]
    },
    {
      "cell_type": "code",
      "source": [
        "print(lr1.summary())"
      ],
      "metadata": {
        "colab": {
          "base_uri": "https://localhost:8080/"
        },
        "id": "_nHqYg-41X5V",
        "outputId": "9bdf1e66-c829-480c-8df3-faa0bc0853a8"
      },
      "execution_count": null,
      "outputs": [
        {
          "output_type": "stream",
          "name": "stdout",
          "text": [
            "                            OLS Regression Results                            \n",
            "==============================================================================\n",
            "Dep. Variable:                    cnt   R-squared:                       0.820\n",
            "Model:                            OLS   Adj. R-squared:                  0.815\n",
            "Method:                 Least Squares   F-statistic:                     160.7\n",
            "Date:                Tue, 06 Dec 2022   Prob (F-statistic):          7.63e-174\n",
            "Time:                        14:24:49   Log-Likelihood:                 475.75\n",
            "No. Observations:                 510   AIC:                            -921.5\n",
            "Df Residuals:                     495   BIC:                            -858.0\n",
            "Df Model:                          14                                         \n",
            "Covariance Type:            nonrobust                                         \n",
            "=========================================================================================\n",
            "                            coef    std err          t      P>|t|      [0.025      0.975]\n",
            "-----------------------------------------------------------------------------------------\n",
            "const                     0.3005      0.082      3.663      0.000       0.139       0.462\n",
            "yr                        0.2309      0.009     26.515      0.000       0.214       0.248\n",
            "holiday                  -0.1366      0.070     -1.959      0.051      -0.274       0.000\n",
            "workingday               -0.0432      0.076     -0.570      0.569      -0.192       0.106\n",
            "temp                      0.4201      0.137      3.078      0.002       0.152       0.688\n",
            "atemp                     0.1227      0.145      0.844      0.399      -0.163       0.409\n",
            "hum                      -0.1458      0.040     -3.620      0.000      -0.225      -0.067\n",
            "windspeed                -0.1728      0.028     -6.199      0.000      -0.228      -0.118\n",
            "season_winter             0.0950      0.011      8.344      0.000       0.073       0.117\n",
            "mnth_jan                 -0.0762      0.018     -4.208      0.000      -0.112      -0.041\n",
            "mnth_sep                  0.0782      0.016      4.799      0.000       0.046       0.110\n",
            "weekday_sat              -0.0277      0.076     -0.367      0.714      -0.176       0.121\n",
            "weekday_sun              -0.0256      0.076     -0.339      0.735      -0.174       0.123\n",
            "weathersit_LightxSnow    -0.2457      0.028     -8.690      0.000      -0.301      -0.190\n",
            "weathersit_Mist          -0.0499      0.011     -4.434      0.000      -0.072      -0.028\n",
            "==============================================================================\n",
            "Omnibus:                       52.091   Durbin-Watson:                   2.042\n",
            "Prob(Omnibus):                  0.000   Jarque-Bera (JB):               95.569\n",
            "Skew:                          -0.628   Prob(JB):                     1.77e-21\n",
            "Kurtosis:                       4.709   Cond. No.                         82.5\n",
            "==============================================================================\n",
            "\n",
            "Notes:\n",
            "[1] Standard Errors assume that the covariance matrix of the errors is correctly specified.\n"
          ]
        }
      ]
    },
    {
      "cell_type": "code",
      "source": [
        "calVIF(X_train_rfe)"
      ],
      "metadata": {
        "colab": {
          "base_uri": "https://localhost:8080/"
        },
        "id": "mKgVeaKSDMHr",
        "outputId": "8366edc9-3edf-4069-b19f-cdfb4f9a128f"
      },
      "execution_count": null,
      "outputs": [
        {
          "output_type": "stream",
          "name": "stdout",
          "text": [
            "                 Features     VIF\n",
            "4                   atemp  356.17\n",
            "3                    temp  345.80\n",
            "5                     hum   35.54\n",
            "2              workingday   30.61\n",
            "11            weekday_sun    6.39\n",
            "10            weekday_sat    6.08\n",
            "6               windspeed    5.38\n",
            "13        weathersit_Mist    2.36\n",
            "0                      yr    2.07\n",
            "1                 holiday    1.76\n",
            "7           season_winter    1.74\n",
            "8                mnth_jan    1.56\n",
            "12  weathersit_LightxSnow    1.27\n",
            "9                mnth_sep    1.17\n"
          ]
        }
      ]
    },
    {
      "cell_type": "markdown",
      "source": [
        "#### Model 2"
      ],
      "metadata": {
        "id": "c35hY0jFFWrY"
      }
    },
    {
      "cell_type": "code",
      "source": [
        "## Dropping atemp variable as it is having high VIF and it is highly insignificant because it is having high p value.\n",
        "X_train_new = X_train_rfe.drop([\"atemp\"], axis = 1)"
      ],
      "metadata": {
        "id": "eq7WzGPbFBh6"
      },
      "execution_count": null,
      "outputs": []
    },
    {
      "cell_type": "code",
      "source": [
        "X_train_lm = sm.add_constant(X_train_new)\n",
        "lr2 = sm.OLS(y_train, X_train_lm).fit()\n",
        "print(lr2.summary())"
      ],
      "metadata": {
        "colab": {
          "base_uri": "https://localhost:8080/"
        },
        "id": "6U0Ap29e18f6",
        "outputId": "6588d412-ff9a-4189-eb80-563463651298"
      },
      "execution_count": null,
      "outputs": [
        {
          "output_type": "stream",
          "name": "stdout",
          "text": [
            "                            OLS Regression Results                            \n",
            "==============================================================================\n",
            "Dep. Variable:                    cnt   R-squared:                       0.819\n",
            "Model:                            OLS   Adj. R-squared:                  0.815\n",
            "Method:                 Least Squares   F-statistic:                     173.2\n",
            "Date:                Tue, 06 Dec 2022   Prob (F-statistic):          8.09e-175\n",
            "Time:                        14:24:49   Log-Likelihood:                 475.39\n",
            "No. Observations:                 510   AIC:                            -922.8\n",
            "Df Residuals:                     496   BIC:                            -863.5\n",
            "Df Model:                          13                                         \n",
            "Covariance Type:            nonrobust                                         \n",
            "=========================================================================================\n",
            "                            coef    std err          t      P>|t|      [0.025      0.975]\n",
            "-----------------------------------------------------------------------------------------\n",
            "const                     0.3024      0.082      3.689      0.000       0.141       0.463\n",
            "yr                        0.2309      0.009     26.518      0.000       0.214       0.248\n",
            "holiday                  -0.1374      0.070     -1.970      0.049      -0.274      -0.000\n",
            "workingday               -0.0429      0.076     -0.566      0.572      -0.192       0.106\n",
            "temp                      0.5334      0.025     21.509      0.000       0.485       0.582\n",
            "hum                      -0.1436      0.040     -3.574      0.000      -0.223      -0.065\n",
            "windspeed                -0.1768      0.027     -6.440      0.000      -0.231      -0.123\n",
            "season_winter             0.0958      0.011      8.445      0.000       0.073       0.118\n",
            "mnth_jan                 -0.0771      0.018     -4.263      0.000      -0.113      -0.042\n",
            "mnth_sep                  0.0780      0.016      4.789      0.000       0.046       0.110\n",
            "weekday_sat              -0.0284      0.076     -0.376      0.707      -0.177       0.120\n",
            "weekday_sun              -0.0254      0.076     -0.337      0.737      -0.174       0.123\n",
            "weathersit_LightxSnow    -0.2475      0.028     -8.785      0.000      -0.303      -0.192\n",
            "weathersit_Mist          -0.0502      0.011     -4.462      0.000      -0.072      -0.028\n",
            "==============================================================================\n",
            "Omnibus:                       50.178   Durbin-Watson:                   2.036\n",
            "Prob(Omnibus):                  0.000   Jarque-Bera (JB):               91.919\n",
            "Skew:                          -0.609   Prob(JB):                     1.10e-20\n",
            "Kurtosis:                       4.686   Cond. No.                         65.5\n",
            "==============================================================================\n",
            "\n",
            "Notes:\n",
            "[1] Standard Errors assume that the covariance matrix of the errors is correctly specified.\n"
          ]
        }
      ]
    },
    {
      "cell_type": "code",
      "source": [
        "calVIF(X_train_new)"
      ],
      "metadata": {
        "colab": {
          "base_uri": "https://localhost:8080/"
        },
        "id": "2zlxNWGMFdLf",
        "outputId": "0825813a-6c68-4b0f-9912-669f441f279c"
      },
      "execution_count": null,
      "outputs": [
        {
          "output_type": "stream",
          "name": "stdout",
          "text": [
            "                 Features    VIF\n",
            "4                     hum  35.32\n",
            "2              workingday  30.41\n",
            "3                    temp  11.27\n",
            "10            weekday_sun   6.35\n",
            "9             weekday_sat   6.07\n",
            "5               windspeed   5.23\n",
            "12        weathersit_Mist   2.36\n",
            "0                      yr   2.07\n",
            "1                 holiday   1.76\n",
            "6           season_winter   1.73\n",
            "7                mnth_jan   1.55\n",
            "11  weathersit_LightxSnow   1.26\n",
            "8                mnth_sep   1.16\n"
          ]
        }
      ]
    },
    {
      "cell_type": "markdown",
      "source": [
        "#### Model 3"
      ],
      "metadata": {
        "id": "UC5kO2KhGLHN"
      }
    },
    {
      "cell_type": "code",
      "source": [
        "## dropping workingday varibale as it is having very high VIF value and high p value.\n",
        "X_train_new = X_train_new.drop([\"workingday\"], axis = 1)"
      ],
      "metadata": {
        "id": "Kt3VUqUNGM99"
      },
      "execution_count": null,
      "outputs": []
    },
    {
      "cell_type": "code",
      "source": [
        "X_train_lm = sm.add_constant(X_train_new)\n",
        "lr3 = sm.OLS(y_train, X_train_lm).fit()\n",
        "print(lr3.summary())"
      ],
      "metadata": {
        "colab": {
          "base_uri": "https://localhost:8080/"
        },
        "id": "0MBiepcX2ZCd",
        "outputId": "19ea59eb-c656-4270-d547-ecda244ce413"
      },
      "execution_count": null,
      "outputs": [
        {
          "output_type": "stream",
          "name": "stdout",
          "text": [
            "                            OLS Regression Results                            \n",
            "==============================================================================\n",
            "Dep. Variable:                    cnt   R-squared:                       0.819\n",
            "Model:                            OLS   Adj. R-squared:                  0.815\n",
            "Method:                 Least Squares   F-statistic:                     187.8\n",
            "Date:                Tue, 06 Dec 2022   Prob (F-statistic):          6.78e-176\n",
            "Time:                        14:24:49   Log-Likelihood:                 475.22\n",
            "No. Observations:                 510   AIC:                            -924.4\n",
            "Df Residuals:                     497   BIC:                            -869.4\n",
            "Df Model:                          12                                         \n",
            "Covariance Type:            nonrobust                                         \n",
            "=========================================================================================\n",
            "                            coef    std err          t      P>|t|      [0.025      0.975]\n",
            "-----------------------------------------------------------------------------------------\n",
            "const                     0.2593      0.030      8.572      0.000       0.200       0.319\n",
            "yr                        0.2312      0.009     26.635      0.000       0.214       0.248\n",
            "holiday                  -0.1010      0.027     -3.696      0.000      -0.155      -0.047\n",
            "temp                      0.5332      0.025     21.518      0.000       0.485       0.582\n",
            "hum                      -0.1426      0.040     -3.555      0.000      -0.221      -0.064\n",
            "windspeed                -0.1773      0.027     -6.463      0.000      -0.231      -0.123\n",
            "season_winter             0.0951      0.011      8.438      0.000       0.073       0.117\n",
            "mnth_jan                 -0.0769      0.018     -4.258      0.000      -0.112      -0.041\n",
            "mnth_sep                  0.0783      0.016      4.812      0.000       0.046       0.110\n",
            "weekday_sat               0.0137      0.013      1.059      0.290      -0.012       0.039\n",
            "weekday_sun               0.0167      0.013      1.322      0.187      -0.008       0.042\n",
            "weathersit_LightxSnow    -0.2474      0.028     -8.787      0.000      -0.303      -0.192\n",
            "weathersit_Mist          -0.0501      0.011     -4.458      0.000      -0.072      -0.028\n",
            "==============================================================================\n",
            "Omnibus:                       50.043   Durbin-Watson:                   2.037\n",
            "Prob(Omnibus):                  0.000   Jarque-Bera (JB):               90.936\n",
            "Skew:                          -0.610   Prob(JB):                     1.79e-20\n",
            "Kurtosis:                       4.671   Cond. No.                         18.3\n",
            "==============================================================================\n",
            "\n",
            "Notes:\n",
            "[1] Standard Errors assume that the covariance matrix of the errors is correctly specified.\n"
          ]
        }
      ]
    },
    {
      "cell_type": "code",
      "source": [
        "calVIF(X_train_new)"
      ],
      "metadata": {
        "colab": {
          "base_uri": "https://localhost:8080/"
        },
        "id": "GMVHTFpVJcJ7",
        "outputId": "0ab97a82-35cb-4362-b152-311504c6aa9b"
      },
      "execution_count": null,
      "outputs": [
        {
          "output_type": "stream",
          "name": "stdout",
          "text": [
            "                 Features    VIF\n",
            "3                     hum  17.35\n",
            "2                    temp  10.10\n",
            "4               windspeed   3.54\n",
            "11        weathersit_Mist   2.15\n",
            "0                      yr   2.04\n",
            "5           season_winter   1.68\n",
            "6                mnth_jan   1.44\n",
            "9             weekday_sun   1.19\n",
            "8             weekday_sat   1.18\n",
            "10  weathersit_LightxSnow   1.18\n",
            "7                mnth_sep   1.16\n",
            "1                 holiday   1.04\n"
          ]
        }
      ]
    },
    {
      "cell_type": "markdown",
      "source": [
        "#### Model 4"
      ],
      "metadata": {
        "id": "Y8Qt5uxJztJD"
      }
    },
    {
      "cell_type": "markdown",
      "source": [
        "Still we can see that we have **weekday_sat** variable is insignificant and also having negative coefficient so we will remove **weekday_sat**"
      ],
      "metadata": {
        "id": "zYtp5H3-p0AO"
      }
    },
    {
      "cell_type": "code",
      "source": [
        "## dropping weekday_sat varibale as it is having very high VIF value.\n",
        "\n",
        "X_train_new = X_train_new.drop([\"weekday_sat\"], axis = 1)"
      ],
      "metadata": {
        "id": "aiDcSt4lp_2G"
      },
      "execution_count": null,
      "outputs": []
    },
    {
      "cell_type": "code",
      "source": [
        "X_train_lm = sm.add_constant(X_train_new)\n",
        "lr4 = sm.OLS(y_train, X_train_lm).fit()\n",
        "print(lr4.summary())"
      ],
      "metadata": {
        "colab": {
          "base_uri": "https://localhost:8080/"
        },
        "id": "SzeYvYnmqKoj",
        "outputId": "72146517-f1be-48fc-8d70-e1d6d82c816f"
      },
      "execution_count": null,
      "outputs": [
        {
          "output_type": "stream",
          "name": "stdout",
          "text": [
            "                            OLS Regression Results                            \n",
            "==============================================================================\n",
            "Dep. Variable:                    cnt   R-squared:                       0.819\n",
            "Model:                            OLS   Adj. R-squared:                  0.815\n",
            "Method:                 Least Squares   F-statistic:                     204.7\n",
            "Date:                Tue, 06 Dec 2022   Prob (F-statistic):          8.08e-177\n",
            "Time:                        14:24:49   Log-Likelihood:                 474.65\n",
            "No. Observations:                 510   AIC:                            -925.3\n",
            "Df Residuals:                     498   BIC:                            -874.5\n",
            "Df Model:                          11                                         \n",
            "Covariance Type:            nonrobust                                         \n",
            "=========================================================================================\n",
            "                            coef    std err          t      P>|t|      [0.025      0.975]\n",
            "-----------------------------------------------------------------------------------------\n",
            "const                     0.2623      0.030      8.711      0.000       0.203       0.321\n",
            "yr                        0.2310      0.009     26.615      0.000       0.214       0.248\n",
            "holiday                  -0.1018      0.027     -3.723      0.000      -0.155      -0.048\n",
            "temp                      0.5342      0.025     21.568      0.000       0.486       0.583\n",
            "hum                      -0.1449      0.040     -3.617      0.000      -0.224      -0.066\n",
            "windspeed                -0.1780      0.027     -6.490      0.000      -0.232      -0.124\n",
            "season_winter             0.0950      0.011      8.431      0.000       0.073       0.117\n",
            "mnth_jan                 -0.0767      0.018     -4.243      0.000      -0.112      -0.041\n",
            "mnth_sep                  0.0784      0.016      4.823      0.000       0.046       0.110\n",
            "weekday_sun               0.0146      0.012      1.168      0.244      -0.010       0.039\n",
            "weathersit_LightxSnow    -0.2457      0.028     -8.740      0.000      -0.301      -0.190\n",
            "weathersit_Mist          -0.0493      0.011     -4.397      0.000      -0.071      -0.027\n",
            "==============================================================================\n",
            "Omnibus:                       49.542   Durbin-Watson:                   2.045\n",
            "Prob(Omnibus):                  0.000   Jarque-Bera (JB):               93.075\n",
            "Skew:                          -0.593   Prob(JB):                     6.15e-21\n",
            "Kurtosis:                       4.724   Cond. No.                         18.2\n",
            "==============================================================================\n",
            "\n",
            "Notes:\n",
            "[1] Standard Errors assume that the covariance matrix of the errors is correctly specified.\n"
          ]
        }
      ]
    },
    {
      "cell_type": "code",
      "source": [
        "calVIF(X_train_new)"
      ],
      "metadata": {
        "colab": {
          "base_uri": "https://localhost:8080/"
        },
        "id": "6b1rtXnOqW39",
        "outputId": "a0c086ba-96dd-45ad-c5cf-79d0292dc370"
      },
      "execution_count": null,
      "outputs": [
        {
          "output_type": "stream",
          "name": "stdout",
          "text": [
            "                 Features    VIF\n",
            "3                     hum  17.33\n",
            "2                    temp  10.04\n",
            "4               windspeed   3.53\n",
            "10        weathersit_Mist   2.14\n",
            "0                      yr   2.04\n",
            "5           season_winter   1.67\n",
            "6                mnth_jan   1.44\n",
            "9   weathersit_LightxSnow   1.18\n",
            "7                mnth_sep   1.16\n",
            "8             weekday_sun   1.16\n",
            "1                 holiday   1.04\n"
          ]
        }
      ]
    },
    {
      "cell_type": "markdown",
      "source": [
        "#### Model 5"
      ],
      "metadata": {
        "id": "5qvi-_L90Lov"
      }
    },
    {
      "cell_type": "code",
      "source": [
        "## dropping weekday_sun varibale as it is having very high VIF value.\n",
        "\n",
        "X_train_new = X_train_new.drop([\"weekday_sun\"], axis = 1)"
      ],
      "metadata": {
        "id": "ZEEVOiMh0Ocy"
      },
      "execution_count": null,
      "outputs": []
    },
    {
      "cell_type": "code",
      "source": [
        "X_train_lm = sm.add_constant(X_train_new)\n",
        "lr5 = sm.OLS(y_train, X_train_lm).fit()\n",
        "print(lr5.summary())"
      ],
      "metadata": {
        "colab": {
          "base_uri": "https://localhost:8080/"
        },
        "id": "4W4x5EjT5Ksb",
        "outputId": "69ee7e56-ab47-4295-dc37-4684e3d86c55"
      },
      "execution_count": null,
      "outputs": [
        {
          "output_type": "stream",
          "name": "stdout",
          "text": [
            "                            OLS Regression Results                            \n",
            "==============================================================================\n",
            "Dep. Variable:                    cnt   R-squared:                       0.818\n",
            "Model:                            OLS   Adj. R-squared:                  0.815\n",
            "Method:                 Least Squares   F-statistic:                     224.9\n",
            "Date:                Tue, 06 Dec 2022   Prob (F-statistic):          1.03e-177\n",
            "Time:                        14:24:49   Log-Likelihood:                 473.95\n",
            "No. Observations:                 510   AIC:                            -925.9\n",
            "Df Residuals:                     499   BIC:                            -879.3\n",
            "Df Model:                          10                                         \n",
            "Covariance Type:            nonrobust                                         \n",
            "=========================================================================================\n",
            "                            coef    std err          t      P>|t|      [0.025      0.975]\n",
            "-----------------------------------------------------------------------------------------\n",
            "const                     0.2655      0.030      8.852      0.000       0.207       0.324\n",
            "yr                        0.2311      0.009     26.615      0.000       0.214       0.248\n",
            "holiday                  -0.1026      0.027     -3.752      0.000      -0.156      -0.049\n",
            "temp                      0.5345      0.025     21.578      0.000       0.486       0.583\n",
            "hum                      -0.1478      0.040     -3.694      0.000      -0.226      -0.069\n",
            "windspeed                -0.1779      0.027     -6.484      0.000      -0.232      -0.124\n",
            "season_winter             0.0949      0.011      8.414      0.000       0.073       0.117\n",
            "mnth_jan                 -0.0768      0.018     -4.251      0.000      -0.112      -0.041\n",
            "mnth_sep                  0.0787      0.016      4.836      0.000       0.047       0.111\n",
            "weathersit_LightxSnow    -0.2457      0.028     -8.737      0.000      -0.301      -0.190\n",
            "weathersit_Mist          -0.0482      0.011     -4.308      0.000      -0.070      -0.026\n",
            "==============================================================================\n",
            "Omnibus:                       45.233   Durbin-Watson:                   2.041\n",
            "Prob(Omnibus):                  0.000   Jarque-Bera (JB):               85.246\n",
            "Skew:                          -0.546   Prob(JB):                     3.08e-19\n",
            "Kurtosis:                       4.679   Cond. No.                         18.1\n",
            "==============================================================================\n",
            "\n",
            "Notes:\n",
            "[1] Standard Errors assume that the covariance matrix of the errors is correctly specified.\n"
          ]
        }
      ]
    },
    {
      "cell_type": "code",
      "source": [
        "calVIF(X_train_new)"
      ],
      "metadata": {
        "colab": {
          "base_uri": "https://localhost:8080/"
        },
        "id": "-CnWIdpf0baP",
        "outputId": "50e668ac-e3ab-478f-d968-df8bcb48fe1a"
      },
      "execution_count": null,
      "outputs": [
        {
          "output_type": "stream",
          "name": "stdout",
          "text": [
            "                Features    VIF\n",
            "3                    hum  17.33\n",
            "2                   temp  10.02\n",
            "4              windspeed   3.51\n",
            "9        weathersit_Mist   2.14\n",
            "0                     yr   2.04\n",
            "5          season_winter   1.67\n",
            "6               mnth_jan   1.44\n",
            "8  weathersit_LightxSnow   1.18\n",
            "7               mnth_sep   1.16\n",
            "1                holiday   1.04\n"
          ]
        }
      ]
    },
    {
      "cell_type": "markdown",
      "source": [
        "#### Model 6"
      ],
      "metadata": {
        "id": "2uHN3TQZ0he2"
      }
    },
    {
      "cell_type": "code",
      "source": [
        "## dropping hum varibale as it is having very high VIF value.\n",
        "\n",
        "X_train_new = X_train_new.drop([\"hum\"], axis = 1)"
      ],
      "metadata": {
        "id": "6439054h0e9b"
      },
      "execution_count": null,
      "outputs": []
    },
    {
      "cell_type": "code",
      "source": [
        "X_train_lm = sm.add_constant(X_train_new)\n",
        "lr6 = sm.OLS(y_train, X_train_lm).fit()\n",
        "lr6.params"
      ],
      "metadata": {
        "colab": {
          "base_uri": "https://localhost:8080/"
        },
        "id": "51GluBKG5awX",
        "outputId": "8f1af3b5-935b-4c53-c1b3-05d20d15c33a"
      },
      "execution_count": null,
      "outputs": [
        {
          "output_type": "execute_result",
          "data": {
            "text/plain": [
              "const                    0.183064\n",
              "yr                       0.234473\n",
              "holiday                 -0.103266\n",
              "temp                     0.512295\n",
              "windspeed               -0.150740\n",
              "season_winter            0.086490\n",
              "mnth_jan                -0.080650\n",
              "mnth_sep                 0.074521\n",
              "weathersit_LightxSnow   -0.285888\n",
              "weathersit_Mist         -0.071863\n",
              "dtype: float64"
            ]
          },
          "metadata": {},
          "execution_count": 148
        }
      ]
    },
    {
      "cell_type": "code",
      "source": [
        "print(lr6.summary())"
      ],
      "metadata": {
        "colab": {
          "base_uri": "https://localhost:8080/"
        },
        "id": "UwJmsvug5tkG",
        "outputId": "0e6f3793-0d87-4213-89a5-a7bad2205726"
      },
      "execution_count": null,
      "outputs": [
        {
          "output_type": "stream",
          "name": "stdout",
          "text": [
            "                            OLS Regression Results                            \n",
            "==============================================================================\n",
            "Dep. Variable:                    cnt   R-squared:                       0.813\n",
            "Model:                            OLS   Adj. R-squared:                  0.810\n",
            "Method:                 Least Squares   F-statistic:                     242.3\n",
            "Date:                Tue, 06 Dec 2022   Prob (F-statistic):          5.27e-176\n",
            "Time:                        14:24:49   Log-Likelihood:                 467.07\n",
            "No. Observations:                 510   AIC:                            -914.1\n",
            "Df Residuals:                     500   BIC:                            -871.8\n",
            "Df Model:                           9                                         \n",
            "Covariance Type:            nonrobust                                         \n",
            "=========================================================================================\n",
            "                            coef    std err          t      P>|t|      [0.025      0.975]\n",
            "-----------------------------------------------------------------------------------------\n",
            "const                     0.1831      0.020      9.026      0.000       0.143       0.223\n",
            "yr                        0.2345      0.009     26.825      0.000       0.217       0.252\n",
            "holiday                  -0.1033      0.028     -3.731      0.000      -0.158      -0.049\n",
            "temp                      0.5123      0.024     21.055      0.000       0.464       0.560\n",
            "windspeed                -0.1507      0.027     -5.632      0.000      -0.203      -0.098\n",
            "season_winter             0.0865      0.011      7.734      0.000       0.065       0.108\n",
            "mnth_jan                 -0.0807      0.018     -4.414      0.000      -0.117      -0.045\n",
            "mnth_sep                  0.0745      0.016      4.534      0.000       0.042       0.107\n",
            "weathersit_LightxSnow    -0.2859      0.026    -10.884      0.000      -0.337      -0.234\n",
            "weathersit_Mist          -0.0719      0.009     -7.754      0.000      -0.090      -0.054\n",
            "==============================================================================\n",
            "Omnibus:                       43.448   Durbin-Watson:                   2.028\n",
            "Prob(Omnibus):                  0.000   Jarque-Bera (JB):               77.810\n",
            "Skew:                          -0.544   Prob(JB):                     1.27e-17\n",
            "Kurtosis:                       4.574   Cond. No.                         11.4\n",
            "==============================================================================\n",
            "\n",
            "Notes:\n",
            "[1] Standard Errors assume that the covariance matrix of the errors is correctly specified.\n"
          ]
        }
      ]
    },
    {
      "cell_type": "code",
      "source": [
        "calVIF(X_train_new)"
      ],
      "metadata": {
        "colab": {
          "base_uri": "https://localhost:8080/"
        },
        "id": "Uf04ckXj06IB",
        "outputId": "4b34e554-95ec-4104-ac7b-f56489305054"
      },
      "execution_count": null,
      "outputs": [
        {
          "output_type": "stream",
          "name": "stdout",
          "text": [
            "                Features   VIF\n",
            "2                   temp  3.57\n",
            "3              windspeed  3.15\n",
            "0                     yr  2.03\n",
            "8        weathersit_Mist  1.50\n",
            "4          season_winter  1.29\n",
            "5               mnth_jan  1.17\n",
            "6               mnth_sep  1.16\n",
            "7  weathersit_LightxSnow  1.08\n",
            "1                holiday  1.04\n"
          ]
        }
      ]
    },
    {
      "cell_type": "markdown",
      "source": [
        "Now We can see that the VIFs and p-values both are within an acceptable range. So we are good to go ahead and make our predictions using this model only."
      ],
      "metadata": {
        "id": "pec7QcvCvr3W"
      }
    },
    {
      "cell_type": "markdown",
      "source": [
        "## Step 7: Residual Analysis of the train data"
      ],
      "metadata": {
        "id": "PlOw0nS5v0RF"
      }
    },
    {
      "cell_type": "markdown",
      "source": [
        "Now, we have to check whether the error terms are normally distibuted or not, and it is infact one of the major assumptions of linear regression.\n",
        "\n",
        "We will plot histogram of error terms and will see how it looks like."
      ],
      "metadata": {
        "id": "g3fN5ZD0v9FD"
      }
    },
    {
      "cell_type": "code",
      "source": [
        "y_train_cnt =  lr6.predict(X_train_lm)"
      ],
      "metadata": {
        "id": "zYNEDjaRwa6e"
      },
      "execution_count": null,
      "outputs": []
    },
    {
      "cell_type": "code",
      "source": [
        "fig = plt.figure()\n",
        "sns.distplot((y_train - y_train_cnt), bins = 20)\n",
        "fig.suptitle('Error Terms', fontsize = 20)                  # Plot heading\n",
        "plt.xlabel('Errors', fontsize = 18)                       # X-label"
      ],
      "metadata": {
        "colab": {
          "base_uri": "https://localhost:8080/",
          "height": 334
        },
        "id": "hvIIzyAh6Lqz",
        "outputId": "7602bb77-1679-4528-9d98-d6091df12842"
      },
      "execution_count": null,
      "outputs": [
        {
          "output_type": "execute_result",
          "data": {
            "text/plain": [
              "Text(0.5, 0, 'Errors')"
            ]
          },
          "metadata": {},
          "execution_count": 164
        },
        {
          "output_type": "display_data",
          "data": {
            "text/plain": [
              "<Figure size 432x288 with 1 Axes>"
            ],
            "image/png": "[encoded data removed]"
          },
          "metadata": {
            "needs_background": "light"
          }
        }
      ]
    },
    {
      "cell_type": "code",
      "source": [
        "# Actual vs Predicted\n",
        "c = [i for i in range(0,len(X_train_new),1)]\n",
        "plt.plot(c,y_train, color=\"blue\")\n",
        "plt.plot(c,y_train_cnt, color=\"red\")\n",
        "plt.suptitle('Actual vs Predicted', fontsize = 15)\n",
        "plt.ylabel('Demands')\n",
        "plt.show()"
      ],
      "metadata": {
        "colab": {
          "base_uri": "https://localhost:8080/",
          "height": 294
        },
        "id": "ntCQoQ32K5EH",
        "outputId": "5d457428-dcd8-468e-a727-cd9e1dfa7aba"
      },
      "execution_count": null,
      "outputs": [
        {
          "output_type": "display_data",
          "data": {
            "text/plain": [
              "<Figure size 432x288 with 1 Axes>"
            ],
            "image/png": "[encoded data removed]"
          },
          "metadata": {
            "needs_background": "light"
          }
        }
      ]
    },
    {
      "cell_type": "code",
      "source": [
        "# Error Terms\n",
        "c = [i for i in range(0,len(X_train_new),1)]\n",
        "plt.plot(c,y_train-y_train_cnt)\n",
        "plt.suptitle('Error Terms', fontsize = 15)\n",
        "\n",
        "plt.ylabel('Diff. b/w y_train and y_train_cnt')\n",
        "plt.show()"
      ],
      "metadata": {
        "colab": {
          "base_uri": "https://localhost:8080/",
          "height": 294
        },
        "id": "0oFK-KscK8Ow",
        "outputId": "926e7b7e-ffb0-4c55-d47c-d796817b1de8"
      },
      "execution_count": null,
      "outputs": [
        {
          "output_type": "display_data",
          "data": {
            "text/plain": [
              "<Figure size 432x288 with 1 Axes>"
            ],
            "image/png": "[encoded data removed]"
          },
          "metadata": {
            "needs_background": "light"
          }
        }
      ]
    },
    {
      "cell_type": "markdown",
      "source": [
        "## Step 8: Making Predictions Using the Final Model\n",
        "\n",
        "Now that we have fitted the model and checked the normality of error terms, it's time to go ahead and make predictions using the final, i.e. fourth model."
      ],
      "metadata": {
        "id": "kqghE9C47EaG"
      }
    },
    {
      "cell_type": "code",
      "source": [
        "numvars = ['temp','atemp','hum','windspeed','cnt']\n",
        "\n",
        "days_test[numvars] = scaler.transform(days_test[numvars])"
      ],
      "metadata": {
        "id": "IAHVqq9H7FPr"
      },
      "execution_count": null,
      "outputs": []
    },
    {
      "cell_type": "code",
      "source": [
        "days_test.describe()"
      ],
      "metadata": {
        "colab": {
          "base_uri": "https://localhost:8080/",
          "height": 393
        },
        "id": "mjDodWUr8j3J",
        "outputId": "d2d0e5ff-5e95-4afb-a017-b3fc552781dc"
      },
      "execution_count": null,
      "outputs": [
        {
          "output_type": "execute_result",
          "data": {
            "text/plain": [
              "               yr     holiday  workingday        temp       atemp         hum  \\\n",
              "count  220.000000  220.000000  220.000000  220.000000  220.000000  220.000000   \n",
              "mean     0.481818    0.036364    0.640909    0.558718    0.532847    0.638221   \n",
              "std      0.500809    0.187620    0.480828    0.233187    0.217401    0.148694   \n",
              "min      0.000000    0.000000    0.000000    0.046591    0.025950    0.261915   \n",
              "25%      0.000000    0.000000    0.000000    0.355429    0.344870    0.529197   \n",
              "50%      0.000000    0.000000    1.000000    0.558172    0.544652    0.625590   \n",
              "75%      1.000000    0.000000    1.000000    0.755981    0.713308    0.743798   \n",
              "max      1.000000    1.000000    1.000000    0.984424    0.980934    1.002146   \n",
              "\n",
              "        windspeed         cnt  season_spring  season_summer  ...    mnth_oct  \\\n",
              "count  220.000000  220.000000     220.000000     220.000000  ...  220.000000   \n",
              "mean     0.313293    0.522154       0.254545       0.263636  ...    0.086364   \n",
              "std      0.159584    0.219163       0.436599       0.441609  ...    0.281541   \n",
              "min     -0.042808    0.048205       0.000000       0.000000  ...    0.000000   \n",
              "25%      0.198843    0.378595       0.000000       0.000000  ...    0.000000   \n",
              "50%      0.300126    0.524678       0.000000       0.000000  ...    0.000000   \n",
              "75%      0.402718    0.677750       1.000000       1.000000  ...    0.000000   \n",
              "max      0.807474    0.963300       1.000000       1.000000  ...    1.000000   \n",
              "\n",
              "         mnth_sep  weekday_mon  weekday_sat  weekday_sun  weekday_thu  \\\n",
              "count  220.000000   220.000000   220.000000   220.000000   220.000000   \n",
              "mean     0.086364     0.118182     0.172727     0.154545     0.140909   \n",
              "std      0.281541     0.323559     0.378873     0.362295     0.348721   \n",
              "min      0.000000     0.000000     0.000000     0.000000     0.000000   \n",
              "25%      0.000000     0.000000     0.000000     0.000000     0.000000   \n",
              "50%      0.000000     0.000000     0.000000     0.000000     0.000000   \n",
              "75%      0.000000     0.000000     0.000000     0.000000     0.000000   \n",
              "max      1.000000     1.000000     1.000000     1.000000     1.000000   \n",
              "\n",
              "       weekday_tue  weekday_wed  weathersit_LightxSnow  weathersit_Mist  \n",
              "count   220.000000   220.000000             220.000000       220.000000  \n",
              "mean      0.122727     0.159091               0.027273         0.318182  \n",
              "std       0.328872     0.366595               0.163248         0.466833  \n",
              "min       0.000000     0.000000               0.000000         0.000000  \n",
              "25%       0.000000     0.000000               0.000000         0.000000  \n",
              "50%       0.000000     0.000000               0.000000         0.000000  \n",
              "75%       0.000000     0.000000               0.000000         1.000000  \n",
              "max       1.000000     1.000000               1.000000         1.000000  \n",
              "\n",
              "[8 rows x 30 columns]"
            ],
            "text/html": [
              "\n",
              "  <div id=\"df-e912767e-29d3-420d-a884-7312e9297861\">\n",
              "    <div class=\"colab-df-container\">\n",
              "      <div>\n",
              "<style scoped>\n",
              "    .dataframe tbody tr th:only-of-type {\n",
              "        vertical-align: middle;\n",
              "    }\n",
              "\n",
              "    .dataframe tbody tr th {\n",
              "        vertical-align: top;\n",
              "    }\n",
              "\n",
              "    .dataframe thead th {\n",
              "        text-align: right;\n",
              "    }\n",
              "</style>\n",
              "<table border=\"1\" class=\"dataframe\">\n",
              "  <thead>\n",
              "    <tr style=\"text-align: right;\">\n",
              "      <th></th>\n",
              "      <th>yr</th>\n",
              "      <th>holiday</th>\n",
              "      <th>workingday</th>\n",
              "      <th>temp</th>\n",
              "      <th>atemp</th>\n",
              "      <th>hum</th>\n",
              "      <th>windspeed</th>\n",
              "      <th>cnt</th>\n",
              "      <th>season_spring</th>\n",
              "      <th>season_summer</th>\n",
              "      <th>...</th>\n",
              "      <th>mnth_oct</th>\n",
              "      <th>mnth_sep</th>\n",
              "      <th>weekday_mon</th>\n",
              "      <th>weekday_sat</th>\n",
              "      <th>weekday_sun</th>\n",
              "      <th>weekday_thu</th>\n",
              "      <th>weekday_tue</th>\n",
              "      <th>weekday_wed</th>\n",
              "      <th>weathersit_LightxSnow</th>\n",
              "      <th>weathersit_Mist</th>\n",
              "    </tr>\n",
              "  </thead>\n",
              "  <tbody>\n",
              "    <tr>\n",
              "      <th>count</th>\n",
              "      <td>220.000000</td>\n",
              "      <td>220.000000</td>\n",
              "      <td>220.000000</td>\n",
              "      <td>220.000000</td>\n",
              "      <td>220.000000</td>\n",
              "      <td>220.000000</td>\n",
              "      <td>220.000000</td>\n",
              "      <td>220.000000</td>\n",
              "      <td>220.000000</td>\n",
              "      <td>220.000000</td>\n",
              "      <td>...</td>\n",
              "      <td>220.000000</td>\n",
              "      <td>220.000000</td>\n",
              "      <td>220.000000</td>\n",
              "      <td>220.000000</td>\n",
              "      <td>220.000000</td>\n",
              "      <td>220.000000</td>\n",
              "      <td>220.000000</td>\n",
              "      <td>220.000000</td>\n",
              "      <td>220.000000</td>\n",
              "      <td>220.000000</td>\n",
              "    </tr>\n",
              "    <tr>\n",
              "      <th>mean</th>\n",
              "      <td>0.481818</td>\n",
              "      <td>0.036364</td>\n",
              "      <td>0.640909</td>\n",
              "      <td>0.558718</td>\n",
              "      <td>0.532847</td>\n",
              "      <td>0.638221</td>\n",
              "      <td>0.313293</td>\n",
              "      <td>0.522154</td>\n",
              "      <td>0.254545</td>\n",
              "      <td>0.263636</td>\n",
              "      <td>...</td>\n",
              "      <td>0.086364</td>\n",
              "      <td>0.086364</td>\n",
              "      <td>0.118182</td>\n",
              "      <td>0.172727</td>\n",
              "      <td>0.154545</td>\n",
              "      <td>0.140909</td>\n",
              "      <td>0.122727</td>\n",
              "      <td>0.159091</td>\n",
              "      <td>0.027273</td>\n",
              "      <td>0.318182</td>\n",
              "    </tr>\n",
              "    <tr>\n",
              "      <th>std</th>\n",
              "      <td>0.500809</td>\n",
              "      <td>0.187620</td>\n",
              "      <td>0.480828</td>\n",
              "      <td>0.233187</td>\n",
              "      <td>0.217401</td>\n",
              "      <td>0.148694</td>\n",
              "      <td>0.159584</td>\n",
              "      <td>0.219163</td>\n",
              "      <td>0.436599</td>\n",
              "      <td>0.441609</td>\n",
              "      <td>...</td>\n",
              "      <td>0.281541</td>\n",
              "      <td>0.281541</td>\n",
              "      <td>0.323559</td>\n",
              "      <td>0.378873</td>\n",
              "      <td>0.362295</td>\n",
              "      <td>0.348721</td>\n",
              "      <td>0.328872</td>\n",
              "      <td>0.366595</td>\n",
              "      <td>0.163248</td>\n",
              "      <td>0.466833</td>\n",
              "    </tr>\n",
              "    <tr>\n",
              "      <th>min</th>\n",
              "      <td>0.000000</td>\n",
              "      <td>0.000000</td>\n",
              "      <td>0.000000</td>\n",
              "      <td>0.046591</td>\n",
              "      <td>0.025950</td>\n",
              "      <td>0.261915</td>\n",
              "      <td>-0.042808</td>\n",
              "      <td>0.048205</td>\n",
              "      <td>0.000000</td>\n",
              "      <td>0.000000</td>\n",
              "      <td>...</td>\n",
              "      <td>0.000000</td>\n",
              "      <td>0.000000</td>\n",
              "      <td>0.000000</td>\n",
              "      <td>0.000000</td>\n",
              "      <td>0.000000</td>\n",
              "      <td>0.000000</td>\n",
              "      <td>0.000000</td>\n",
              "      <td>0.000000</td>\n",
              "      <td>0.000000</td>\n",
              "      <td>0.000000</td>\n",
              "    </tr>\n",
              "    <tr>\n",
              "      <th>25%</th>\n",
              "      <td>0.000000</td>\n",
              "      <td>0.000000</td>\n",
              "      <td>0.000000</td>\n",
              "      <td>0.355429</td>\n",
              "      <td>0.344870</td>\n",
              "      <td>0.529197</td>\n",
              "      <td>0.198843</td>\n",
              "      <td>0.378595</td>\n",
              "      <td>0.000000</td>\n",
              "      <td>0.000000</td>\n",
              "      <td>...</td>\n",
              "      <td>0.000000</td>\n",
              "      <td>0.000000</td>\n",
              "      <td>0.000000</td>\n",
              "      <td>0.000000</td>\n",
              "      <td>0.000000</td>\n",
              "      <td>0.000000</td>\n",
              "      <td>0.000000</td>\n",
              "      <td>0.000000</td>\n",
              "      <td>0.000000</td>\n",
              "      <td>0.000000</td>\n",
              "    </tr>\n",
              "    <tr>\n",
              "      <th>50%</th>\n",
              "      <td>0.000000</td>\n",
              "      <td>0.000000</td>\n",
              "      <td>1.000000</td>\n",
              "      <td>0.558172</td>\n",
              "      <td>0.544652</td>\n",
              "      <td>0.625590</td>\n",
              "      <td>0.300126</td>\n",
              "      <td>0.524678</td>\n",
              "      <td>0.000000</td>\n",
              "      <td>0.000000</td>\n",
              "      <td>...</td>\n",
              "      <td>0.000000</td>\n",
              "      <td>0.000000</td>\n",
              "      <td>0.000000</td>\n",
              "      <td>0.000000</td>\n",
              "      <td>0.000000</td>\n",
              "      <td>0.000000</td>\n",
              "      <td>0.000000</td>\n",
              "      <td>0.000000</td>\n",
              "      <td>0.000000</td>\n",
              "      <td>0.000000</td>\n",
              "    </tr>\n",
              "    <tr>\n",
              "      <th>75%</th>\n",
              "      <td>1.000000</td>\n",
              "      <td>0.000000</td>\n",
              "      <td>1.000000</td>\n",
              "      <td>0.755981</td>\n",
              "      <td>0.713308</td>\n",
              "      <td>0.743798</td>\n",
              "      <td>0.402718</td>\n",
              "      <td>0.677750</td>\n",
              "      <td>1.000000</td>\n",
              "      <td>1.000000</td>\n",
              "      <td>...</td>\n",
              "      <td>0.000000</td>\n",
              "      <td>0.000000</td>\n",
              "      <td>0.000000</td>\n",
              "      <td>0.000000</td>\n",
              "      <td>0.000000</td>\n",
              "      <td>0.000000</td>\n",
              "      <td>0.000000</td>\n",
              "      <td>0.000000</td>\n",
              "      <td>0.000000</td>\n",
              "      <td>1.000000</td>\n",
              "    </tr>\n",
              "    <tr>\n",
              "      <th>max</th>\n",
              "      <td>1.000000</td>\n",
              "      <td>1.000000</td>\n",
              "      <td>1.000000</td>\n",
              "      <td>0.984424</td>\n",
              "      <td>0.980934</td>\n",
              "      <td>1.002146</td>\n",
              "      <td>0.807474</td>\n",
              "      <td>0.963300</td>\n",
              "      <td>1.000000</td>\n",
              "      <td>1.000000</td>\n",
              "      <td>...</td>\n",
              "      <td>1.000000</td>\n",
              "      <td>1.000000</td>\n",
              "      <td>1.000000</td>\n",
              "      <td>1.000000</td>\n",
              "      <td>1.000000</td>\n",
              "      <td>1.000000</td>\n",
              "      <td>1.000000</td>\n",
              "      <td>1.000000</td>\n",
              "      <td>1.000000</td>\n",
              "      <td>1.000000</td>\n",
              "    </tr>\n",
              "  </tbody>\n",
              "</table>\n",
              "<p>8 rows × 30 columns</p>\n",
              "</div>\n",
              "      <button class=\"colab-df-convert\" onclick=\"convertToInteractive('df-e912767e-29d3-420d-a884-7312e9297861')\"\n",
              "              title=\"Convert this dataframe to an interactive table.\"\n",
              "              style=\"display:none;\">\n",
              "        \n",
              "  <svg xmlns=\"http://www.w3.org/2000/svg\" height=\"24px\"viewBox=\"0 0 24 24\"\n",
              "       width=\"24px\">\n",
              "    <path d=\"M0 0h24v24H0V0z\" fill=\"none\"/>\n",
              "    <path d=\"M18.56 5.44l.94 2.06.94-2.06 2.06-.94-2.06-.94-.94-2.06-.94 2.06-2.06.94zm-11 1L8.5 8.5l.94-2.06 2.06-.94-2.06-.94L8.5 2.5l-.94 2.06-2.06.94zm10 10l.94 2.06.94-2.06 2.06-.94-2.06-.94-.94-2.06-.94 2.06-2.06.94z\"/><path d=\"M17.41 7.96l-1.37-1.37c-.4-.4-.92-.59-1.43-.59-.52 0-1.04.2-1.43.59L10.3 9.45l-7.72 7.72c-.78.78-.78 2.05 0 2.83L4 21.41c.39.39.9.59 1.41.59.51 0 1.02-.2 1.41-.59l7.78-7.78 2.81-2.81c.8-.78.8-2.07 0-2.86zM5.41 20L4 18.59l7.72-7.72 1.47 1.35L5.41 20z\"/>\n",
              "  </svg>\n",
              "      </button>\n",
              "      \n",
              "  <style>\n",
              "    .colab-df-container {\n",
              "      display:flex;\n",
              "      flex-wrap:wrap;\n",
              "      gap: 12px;\n",
              "    }\n",
              "\n",
              "    .colab-df-convert {\n",
              "      background-color: #E8F0FE;\n",
              "      border: none;\n",
              "      border-radius: 50%;\n",
              "      cursor: pointer;\n",
              "      display: none;\n",
              "      fill: #1967D2;\n",
              "      height: 32px;\n",
              "      padding: 0 0 0 0;\n",
              "      width: 32px;\n",
              "    }\n",
              "\n",
              "    .colab-df-convert:hover {\n",
              "      background-color: #E2EBFA;\n",
              "      box-shadow: 0px 1px 2px rgba(60, 64, 67, 0.3), 0px 1px 3px 1px rgba(60, 64, 67, 0.15);\n",
              "      fill: #174EA6;\n",
              "    }\n",
              "\n",
              "    [theme=dark] .colab-df-convert {\n",
              "      background-color: #3B4455;\n",
              "      fill: #D2E3FC;\n",
              "    }\n",
              "\n",
              "    [theme=dark] .colab-df-convert:hover {\n",
              "      background-color: #434B5C;\n",
              "      box-shadow: 0px 1px 3px 1px rgba(0, 0, 0, 0.15);\n",
              "      filter: drop-shadow(0px 1px 2px rgba(0, 0, 0, 0.3));\n",
              "      fill: #FFFFFF;\n",
              "    }\n",
              "  </style>\n",
              "\n",
              "      <script>\n",
              "        const buttonEl =\n",
              "          document.querySelector('#df-e912767e-29d3-420d-a884-7312e9297861 button.colab-df-convert');\n",
              "        buttonEl.style.display =\n",
              "          google.colab.kernel.accessAllowed ? 'block' : 'none';\n",
              "\n",
              "        async function convertToInteractive(key) {\n",
              "          const element = document.querySelector('#df-e912767e-29d3-420d-a884-7312e9297861');\n",
              "          const dataTable =\n",
              "            await google.colab.kernel.invokeFunction('convertToInteractive',\n",
              "                                                     [key], {});\n",
              "          if (!dataTable) return;\n",
              "\n",
              "          const docLinkHtml = 'Like what you see? Visit the ' +\n",
              "            '<a target=\"_blank\" href=https://colab.research.google.com/notebooks/data_table.ipynb>data table notebook</a>'\n",
              "            + ' to learn more about interactive tables.';\n",
              "          element.innerHTML = '';\n",
              "          dataTable['output_type'] = 'display_data';\n",
              "          await google.colab.output.renderOutput(dataTable, element);\n",
              "          const docLink = document.createElement('div');\n",
              "          docLink.innerHTML = docLinkHtml;\n",
              "          element.appendChild(docLink);\n",
              "        }\n",
              "      </script>\n",
              "    </div>\n",
              "  </div>\n",
              "  "
            ]
          },
          "metadata": {},
          "execution_count": 156
        }
      ]
    },
    {
      "cell_type": "markdown",
      "source": [
        "#### Dividing into X_test and y_test"
      ],
      "metadata": {
        "id": "Bre7JnF28shC"
      }
    },
    {
      "cell_type": "code",
      "source": [
        "y_test = days_test.pop('cnt');\n",
        "coln = X_train_new.columns\n",
        "\n",
        "X_test = days_test[coln]\n",
        "\n",
        "# Adding constant variable to test dataframe\n",
        "X_test_new = sm.add_constant(X_test)"
      ],
      "metadata": {
        "id": "uhSrAeBIBBoj"
      },
      "execution_count": null,
      "outputs": []
    },
    {
      "cell_type": "code",
      "source": [
        "X_test_new.shape"
      ],
      "metadata": {
        "colab": {
          "base_uri": "https://localhost:8080/"
        },
        "id": "tXvANrMUz1en",
        "outputId": "9e7d9e48-3fe5-4869-d88c-fbb79bae150a"
      },
      "execution_count": null,
      "outputs": [
        {
          "output_type": "execute_result",
          "data": {
            "text/plain": [
              "(220, 10)"
            ]
          },
          "metadata": {},
          "execution_count": 158
        }
      ]
    },
    {
      "cell_type": "code",
      "source": [
        "X_test_new.head()"
      ],
      "metadata": {
        "colab": {
          "base_uri": "https://localhost:8080/",
          "height": 206
        },
        "id": "Pl4MNK_TxDs3",
        "outputId": "b2bcde2f-15bd-411d-a1fa-501c9ffd845d"
      },
      "execution_count": null,
      "outputs": [
        {
          "output_type": "execute_result",
          "data": {
            "text/plain": [
              "     const  yr  holiday      temp  windspeed  season_winter  mnth_jan  \\\n",
              "184    1.0   0        1  0.831783   0.084219              0         0   \n",
              "535    1.0   1        0  0.901354   0.153728              0         0   \n",
              "299    1.0   0        0  0.511964   0.334206              1         0   \n",
              "221    1.0   0        0  0.881625   0.339570              0         0   \n",
              "152    1.0   0        0  0.817246   0.537414              0         0   \n",
              "\n",
              "     mnth_sep  weathersit_LightxSnow  weathersit_Mist  \n",
              "184         0                      0                1  \n",
              "535         0                      0                0  \n",
              "299         0                      0                1  \n",
              "221         0                      0                0  \n",
              "152         0                      0                0  "
            ],
            "text/html": [
              "\n",
              "  <div id=\"df-2232114c-9798-4b56-ae76-2e4381f168c4\">\n",
              "    <div class=\"colab-df-container\">\n",
              "      <div>\n",
              "<style scoped>\n",
              "    .dataframe tbody tr th:only-of-type {\n",
              "        vertical-align: middle;\n",
              "    }\n",
              "\n",
              "    .dataframe tbody tr th {\n",
              "        vertical-align: top;\n",
              "    }\n",
              "\n",
              "    .dataframe thead th {\n",
              "        text-align: right;\n",
              "    }\n",
              "</style>\n",
              "<table border=\"1\" class=\"dataframe\">\n",
              "  <thead>\n",
              "    <tr style=\"text-align: right;\">\n",
              "      <th></th>\n",
              "      <th>const</th>\n",
              "      <th>yr</th>\n",
              "      <th>holiday</th>\n",
              "      <th>temp</th>\n",
              "      <th>windspeed</th>\n",
              "      <th>season_winter</th>\n",
              "      <th>mnth_jan</th>\n",
              "      <th>mnth_sep</th>\n",
              "      <th>weathersit_LightxSnow</th>\n",
              "      <th>weathersit_Mist</th>\n",
              "    </tr>\n",
              "  </thead>\n",
              "  <tbody>\n",
              "    <tr>\n",
              "      <th>184</th>\n",
              "      <td>1.0</td>\n",
              "      <td>0</td>\n",
              "      <td>1</td>\n",
              "      <td>0.831783</td>\n",
              "      <td>0.084219</td>\n",
              "      <td>0</td>\n",
              "      <td>0</td>\n",
              "      <td>0</td>\n",
              "      <td>0</td>\n",
              "      <td>1</td>\n",
              "    </tr>\n",
              "    <tr>\n",
              "      <th>535</th>\n",
              "      <td>1.0</td>\n",
              "      <td>1</td>\n",
              "      <td>0</td>\n",
              "      <td>0.901354</td>\n",
              "      <td>0.153728</td>\n",
              "      <td>0</td>\n",
              "      <td>0</td>\n",
              "      <td>0</td>\n",
              "      <td>0</td>\n",
              "      <td>0</td>\n",
              "    </tr>\n",
              "    <tr>\n",
              "      <th>299</th>\n",
              "      <td>1.0</td>\n",
              "      <td>0</td>\n",
              "      <td>0</td>\n",
              "      <td>0.511964</td>\n",
              "      <td>0.334206</td>\n",
              "      <td>1</td>\n",
              "      <td>0</td>\n",
              "      <td>0</td>\n",
              "      <td>0</td>\n",
              "      <td>1</td>\n",
              "    </tr>\n",
              "    <tr>\n",
              "      <th>221</th>\n",
              "      <td>1.0</td>\n",
              "      <td>0</td>\n",
              "      <td>0</td>\n",
              "      <td>0.881625</td>\n",
              "      <td>0.339570</td>\n",
              "      <td>0</td>\n",
              "      <td>0</td>\n",
              "      <td>0</td>\n",
              "      <td>0</td>\n",
              "      <td>0</td>\n",
              "    </tr>\n",
              "    <tr>\n",
              "      <th>152</th>\n",
              "      <td>1.0</td>\n",
              "      <td>0</td>\n",
              "      <td>0</td>\n",
              "      <td>0.817246</td>\n",
              "      <td>0.537414</td>\n",
              "      <td>0</td>\n",
              "      <td>0</td>\n",
              "      <td>0</td>\n",
              "      <td>0</td>\n",
              "      <td>0</td>\n",
              "    </tr>\n",
              "  </tbody>\n",
              "</table>\n",
              "</div>\n",
              "      <button class=\"colab-df-convert\" onclick=\"convertToInteractive('df-2232114c-9798-4b56-ae76-2e4381f168c4')\"\n",
              "              title=\"Convert this dataframe to an interactive table.\"\n",
              "              style=\"display:none;\">\n",
              "        \n",
              "  <svg xmlns=\"http://www.w3.org/2000/svg\" height=\"24px\"viewBox=\"0 0 24 24\"\n",
              "       width=\"24px\">\n",
              "    <path d=\"M0 0h24v24H0V0z\" fill=\"none\"/>\n",
              "    <path d=\"M18.56 5.44l.94 2.06.94-2.06 2.06-.94-2.06-.94-.94-2.06-.94 2.06-2.06.94zm-11 1L8.5 8.5l.94-2.06 2.06-.94-2.06-.94L8.5 2.5l-.94 2.06-2.06.94zm10 10l.94 2.06.94-2.06 2.06-.94-2.06-.94-.94-2.06-.94 2.06-2.06.94z\"/><path d=\"M17.41 7.96l-1.37-1.37c-.4-.4-.92-.59-1.43-.59-.52 0-1.04.2-1.43.59L10.3 9.45l-7.72 7.72c-.78.78-.78 2.05 0 2.83L4 21.41c.39.39.9.59 1.41.59.51 0 1.02-.2 1.41-.59l7.78-7.78 2.81-2.81c.8-.78.8-2.07 0-2.86zM5.41 20L4 18.59l7.72-7.72 1.47 1.35L5.41 20z\"/>\n",
              "  </svg>\n",
              "      </button>\n",
              "      \n",
              "  <style>\n",
              "    .colab-df-container {\n",
              "      display:flex;\n",
              "      flex-wrap:wrap;\n",
              "      gap: 12px;\n",
              "    }\n",
              "\n",
              "    .colab-df-convert {\n",
              "      background-color: #E8F0FE;\n",
              "      border: none;\n",
              "      border-radius: 50%;\n",
              "      cursor: pointer;\n",
              "      display: none;\n",
              "      fill: #1967D2;\n",
              "      height: 32px;\n",
              "      padding: 0 0 0 0;\n",
              "      width: 32px;\n",
              "    }\n",
              "\n",
              "    .colab-df-convert:hover {\n",
              "      background-color: #E2EBFA;\n",
              "      box-shadow: 0px 1px 2px rgba(60, 64, 67, 0.3), 0px 1px 3px 1px rgba(60, 64, 67, 0.15);\n",
              "      fill: #174EA6;\n",
              "    }\n",
              "\n",
              "    [theme=dark] .colab-df-convert {\n",
              "      background-color: #3B4455;\n",
              "      fill: #D2E3FC;\n",
              "    }\n",
              "\n",
              "    [theme=dark] .colab-df-convert:hover {\n",
              "      background-color: #434B5C;\n",
              "      box-shadow: 0px 1px 3px 1px rgba(0, 0, 0, 0.15);\n",
              "      filter: drop-shadow(0px 1px 2px rgba(0, 0, 0, 0.3));\n",
              "      fill: #FFFFFF;\n",
              "    }\n",
              "  </style>\n",
              "\n",
              "      <script>\n",
              "        const buttonEl =\n",
              "          document.querySelector('#df-2232114c-9798-4b56-ae76-2e4381f168c4 button.colab-df-convert');\n",
              "        buttonEl.style.display =\n",
              "          google.colab.kernel.accessAllowed ? 'block' : 'none';\n",
              "\n",
              "        async function convertToInteractive(key) {\n",
              "          const element = document.querySelector('#df-2232114c-9798-4b56-ae76-2e4381f168c4');\n",
              "          const dataTable =\n",
              "            await google.colab.kernel.invokeFunction('convertToInteractive',\n",
              "                                                     [key], {});\n",
              "          if (!dataTable) return;\n",
              "\n",
              "          const docLinkHtml = 'Like what you see? Visit the ' +\n",
              "            '<a target=\"_blank\" href=https://colab.research.google.com/notebooks/data_table.ipynb>data table notebook</a>'\n",
              "            + ' to learn more about interactive tables.';\n",
              "          element.innerHTML = '';\n",
              "          dataTable['output_type'] = 'display_data';\n",
              "          await google.colab.output.renderOutput(dataTable, element);\n",
              "          const docLink = document.createElement('div');\n",
              "          docLink.innerHTML = docLinkHtml;\n",
              "          element.appendChild(docLink);\n",
              "        }\n",
              "      </script>\n",
              "    </div>\n",
              "  </div>\n",
              "  "
            ]
          },
          "metadata": {},
          "execution_count": 159
        }
      ]
    },
    {
      "cell_type": "code",
      "source": [
        "y_pred_cnt = lr6.predict(X_test_new)"
      ],
      "metadata": {
        "id": "42RLRH_IBCWL"
      },
      "execution_count": null,
      "outputs": []
    },
    {
      "cell_type": "markdown",
      "source": [
        "## Step 9: Model Evaluation\n",
        "\n",
        "Let's now plot the graph for actual versus predicted values."
      ],
      "metadata": {
        "id": "wmiyHa3wBPF-"
      }
    },
    {
      "cell_type": "code",
      "source": [
        "# Plotting y_test and y_pred to understand the spread\n",
        "fig = plt.figure()\n",
        "plt.scatter(y_test, y_pred_cnt)\n",
        "fig.suptitle('y_test vs y_pred', fontsize = 20)              # Plot heading\n",
        "plt.xlabel('y_test', fontsize = 18)                          # X-label\n",
        "plt.ylabel('y_pred', fontsize = 16)"
      ],
      "metadata": {
        "colab": {
          "base_uri": "https://localhost:8080/",
          "height": 334
        },
        "id": "JOamoEyxBWI_",
        "outputId": "9d41283d-1236-4079-afa8-21bbb17b383c"
      },
      "execution_count": null,
      "outputs": [
        {
          "output_type": "execute_result",
          "data": {
            "text/plain": [
              "Text(0, 0.5, 'y_pred')"
            ]
          },
          "metadata": {},
          "execution_count": 161
        },
        {
          "output_type": "display_data",
          "data": {
            "text/plain": [
              "<Figure size 432x288 with 1 Axes>"
            ],
            "image/png": "[encoded data removed]"
          },
          "metadata": {
            "needs_background": "light"
          }
        }
      ]
    },
    {
      "cell_type": "markdown",
      "source": [
        "cnt = 0.183064 + 0.234473 x yr - 0.103266 x holiday +  0.512295 x temp - 0.15074 x windspeed + 0.08649 x season_winter - 0.08065  x mnth_jan +  0.074521 x mnth_sep - 0.285888 x weathersit_LightxSnow - 0.071863 x weathersit_Mist\n"
      ],
      "metadata": {
        "id": "9Yht_y8xIuhD"
      }
    },
    {
      "cell_type": "code",
      "source": [
        "#Calculating r2_score\n",
        "r2 = r2_score(y_test, y_pred_cnt)\n",
        "\n",
        "round(r2,2)"
      ],
      "metadata": {
        "colab": {
          "base_uri": "https://localhost:8080/"
        },
        "id": "4YsKMvaXCrd-",
        "outputId": "8bb99b49-6125-4aa8-9fcf-9039b56f7dcb"
      },
      "execution_count": null,
      "outputs": [
        {
          "output_type": "execute_result",
          "data": {
            "text/plain": [
              "0.77"
            ]
          },
          "metadata": {},
          "execution_count": 162
        }
      ]
    },
    {
      "cell_type": "code",
      "source": [
        "#Calculating adjusted R squared.\n",
        "n = X_test_new.shape[0]\n",
        "p = X_test_new.shape[1]\n",
        "\n",
        "adjusted_r2 = 1-(1-r2)*(n-1)/(n-p-1)\n",
        "round(adjusted_r2,2)\n"
      ],
      "metadata": {
        "colab": {
          "base_uri": "https://localhost:8080/"
        },
        "id": "o9dD_v1nSats",
        "outputId": "4d8f6d4d-e47f-4a9c-b123-418a71f91b2a"
      },
      "execution_count": null,
      "outputs": [
        {
          "output_type": "execute_result",
          "data": {
            "text/plain": [
              "0.76"
            ]
          },
          "metadata": {},
          "execution_count": 163
        }
      ]
    },
    {
      "cell_type": "markdown",
      "source": [
        "### **Final Result Comparison**\n",
        "\n",
        "R-squared in Train data set:0.813\n",
        "\n",
        "Adjusted R-squared in Train data set:0.81\n",
        "\n",
        "R-squared in Test data set :0.77\n",
        "\n",
        "Adjusted R-squared in Test data set:0.76\n"
      ],
      "metadata": {
        "id": "w_KM9bKqZYqn"
      }
    },
    {
      "cell_type": "markdown",
      "source": [
        "We can predict below things:\n",
        "\n",
        "*   The demands gets higher when temprature increases.\n",
        "\n",
        "*   In the month of september we have higher number of bookings\n",
        "\n",
        "*   In the winter season, demands increases.\n",
        "\n",
        "*   In Rainy season or snowfall, demands decreases.\n",
        "\n",
        "*   In holiday, people do not prefer bike sharing.\n",
        "\n",
        "*   When wind speed increases then people lessly prefer bike.\n",
        "\n"
      ],
      "metadata": {
        "id": "JuBkGiFsaBHe"
      }
    }
  ]
}